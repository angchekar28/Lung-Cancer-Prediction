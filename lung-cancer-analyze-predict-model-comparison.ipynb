{
 "cells": [
  {
   "cell_type": "markdown",
   "id": "7dfdd4c1",
   "metadata": {
    "papermill": {
     "duration": 0.013174,
     "end_time": "2024-12-04T13:00:17.358046",
     "exception": false,
     "start_time": "2024-12-04T13:00:17.344872",
     "status": "completed"
    },
    "tags": []
   },
   "source": [
    "<div style=\"text-align: center; padding: 20px; border-radius: 15px; background-color: #fff8ff; color: #333333; border: 2px solid #444555; font-family: Arial, sans-serif;\">\n",
    "  <h1 style=\"font-size: 2.5em; font-weight: bold; margin: 10px 0; color: #444555;\">Lung Cancer Prediction & Model Comparison</h1>\n",
    "</div>"
   ]
  },
  {
   "cell_type": "markdown",
   "id": "91588232",
   "metadata": {
    "papermill": {
     "duration": 0.010448,
     "end_time": "2024-12-04T13:00:17.380186",
     "exception": false,
     "start_time": "2024-12-04T13:00:17.369738",
     "status": "completed"
    },
    "tags": []
   },
   "source": [
    "<div style=\"padding: 20px; border-radius: 15px; background-color: #fff8ff; color: #333333; border: 2px solid #444555; font-family: Arial, sans-serif;\">\n",
    "In this project, we will conduct an extensive data analysis and create visualizations to explore patterns and insights within the Lung Cancer Dataset. Following this, we will perform a comprehensive comparison of multiple machine learning algorithms, evaluating their performance metrics to identify the most effective model for accurately detecting lung cancer. This approach aims to ensure a robust understanding of the df and deliver the best possible predictive outcomes.\n",
    "</div>"
   ]
  },
  {
   "cell_type": "markdown",
   "id": "d8211803",
   "metadata": {
    "papermill": {
     "duration": 0.010505,
     "end_time": "2024-12-04T13:00:17.403240",
     "exception": false,
     "start_time": "2024-12-04T13:00:17.392735",
     "status": "completed"
    },
    "tags": []
   },
   "source": [
    "## 1. Import Libraries"
   ]
  },
  {
   "cell_type": "code",
   "execution_count": 1,
   "id": "ea7e65c7",
   "metadata": {
    "execution": {
     "iopub.execute_input": "2024-12-04T13:00:17.426884Z",
     "iopub.status.busy": "2024-12-04T13:00:17.426347Z",
     "iopub.status.idle": "2024-12-04T13:00:18.607177Z",
     "shell.execute_reply": "2024-12-04T13:00:18.606049Z"
    },
    "papermill": {
     "duration": 1.196028,
     "end_time": "2024-12-04T13:00:18.610046",
     "exception": false,
     "start_time": "2024-12-04T13:00:17.414018",
     "status": "completed"
    },
    "tags": []
   },
   "outputs": [],
   "source": [
    "#Matrix Calculation\n",
    "import numpy as np \n",
    "\n",
    "#Data Manipulation\n",
    "import pandas as pd \n",
    "\n",
    "#To Plot Graphs\n",
    "import matplotlib.pyplot as plt \n",
    "\n",
    "#Statistical Visualization \n",
    "import seaborn as sns"
   ]
  },
  {
   "cell_type": "code",
   "execution_count": 2,
   "id": "06890c10",
   "metadata": {
    "execution": {
     "iopub.execute_input": "2024-12-04T13:00:18.634113Z",
     "iopub.status.busy": "2024-12-04T13:00:18.633714Z",
     "iopub.status.idle": "2024-12-04T13:00:18.653722Z",
     "shell.execute_reply": "2024-12-04T13:00:18.652604Z"
    },
    "papermill": {
     "duration": 0.034938,
     "end_time": "2024-12-04T13:00:18.656314",
     "exception": false,
     "start_time": "2024-12-04T13:00:18.621376",
     "status": "completed"
    },
    "tags": []
   },
   "outputs": [],
   "source": [
    "#Read CSV FILE and copy it into the variable\n",
    "df=pd.read_csv(\"../input/lung-cancer/survey lung cancer.csv\")"
   ]
  },
  {
   "cell_type": "code",
   "execution_count": 3,
   "id": "6308733e",
   "metadata": {
    "execution": {
     "iopub.execute_input": "2024-12-04T13:00:18.680923Z",
     "iopub.status.busy": "2024-12-04T13:00:18.680479Z",
     "iopub.status.idle": "2024-12-04T13:00:18.689066Z",
     "shell.execute_reply": "2024-12-04T13:00:18.687857Z"
    },
    "papermill": {
     "duration": 0.023926,
     "end_time": "2024-12-04T13:00:18.691975",
     "exception": false,
     "start_time": "2024-12-04T13:00:18.668049",
     "status": "completed"
    },
    "tags": []
   },
   "outputs": [
    {
     "data": {
      "text/plain": [
       "(309, 16)"
      ]
     },
     "execution_count": 3,
     "metadata": {},
     "output_type": "execute_result"
    }
   ],
   "source": [
    "#Know rows and columns\n",
    "df.shape"
   ]
  },
  {
   "cell_type": "code",
   "execution_count": 4,
   "id": "b68d507a",
   "metadata": {
    "execution": {
     "iopub.execute_input": "2024-12-04T13:00:18.716150Z",
     "iopub.status.busy": "2024-12-04T13:00:18.715310Z",
     "iopub.status.idle": "2024-12-04T13:00:18.736695Z",
     "shell.execute_reply": "2024-12-04T13:00:18.735495Z"
    },
    "papermill": {
     "duration": 0.035909,
     "end_time": "2024-12-04T13:00:18.738970",
     "exception": false,
     "start_time": "2024-12-04T13:00:18.703061",
     "status": "completed"
    },
    "tags": []
   },
   "outputs": [
    {
     "data": {
      "text/html": [
       "<div>\n",
       "<style scoped>\n",
       "    .dataframe tbody tr th:only-of-type {\n",
       "        vertical-align: middle;\n",
       "    }\n",
       "\n",
       "    .dataframe tbody tr th {\n",
       "        vertical-align: top;\n",
       "    }\n",
       "\n",
       "    .dataframe thead th {\n",
       "        text-align: right;\n",
       "    }\n",
       "</style>\n",
       "<table border=\"1\" class=\"dataframe\">\n",
       "  <thead>\n",
       "    <tr style=\"text-align: right;\">\n",
       "      <th></th>\n",
       "      <th>GENDER</th>\n",
       "      <th>AGE</th>\n",
       "      <th>SMOKING</th>\n",
       "      <th>YELLOW_FINGERS</th>\n",
       "      <th>ANXIETY</th>\n",
       "      <th>PEER_PRESSURE</th>\n",
       "      <th>CHRONIC DISEASE</th>\n",
       "      <th>FATIGUE</th>\n",
       "      <th>ALLERGY</th>\n",
       "      <th>WHEEZING</th>\n",
       "      <th>ALCOHOL CONSUMING</th>\n",
       "      <th>COUGHING</th>\n",
       "      <th>SHORTNESS OF BREATH</th>\n",
       "      <th>SWALLOWING DIFFICULTY</th>\n",
       "      <th>CHEST PAIN</th>\n",
       "      <th>LUNG_CANCER</th>\n",
       "    </tr>\n",
       "  </thead>\n",
       "  <tbody>\n",
       "    <tr>\n",
       "      <th>0</th>\n",
       "      <td>M</td>\n",
       "      <td>69</td>\n",
       "      <td>1</td>\n",
       "      <td>2</td>\n",
       "      <td>2</td>\n",
       "      <td>1</td>\n",
       "      <td>1</td>\n",
       "      <td>2</td>\n",
       "      <td>1</td>\n",
       "      <td>2</td>\n",
       "      <td>2</td>\n",
       "      <td>2</td>\n",
       "      <td>2</td>\n",
       "      <td>2</td>\n",
       "      <td>2</td>\n",
       "      <td>YES</td>\n",
       "    </tr>\n",
       "    <tr>\n",
       "      <th>1</th>\n",
       "      <td>M</td>\n",
       "      <td>74</td>\n",
       "      <td>2</td>\n",
       "      <td>1</td>\n",
       "      <td>1</td>\n",
       "      <td>1</td>\n",
       "      <td>2</td>\n",
       "      <td>2</td>\n",
       "      <td>2</td>\n",
       "      <td>1</td>\n",
       "      <td>1</td>\n",
       "      <td>1</td>\n",
       "      <td>2</td>\n",
       "      <td>2</td>\n",
       "      <td>2</td>\n",
       "      <td>YES</td>\n",
       "    </tr>\n",
       "    <tr>\n",
       "      <th>2</th>\n",
       "      <td>F</td>\n",
       "      <td>59</td>\n",
       "      <td>1</td>\n",
       "      <td>1</td>\n",
       "      <td>1</td>\n",
       "      <td>2</td>\n",
       "      <td>1</td>\n",
       "      <td>2</td>\n",
       "      <td>1</td>\n",
       "      <td>2</td>\n",
       "      <td>1</td>\n",
       "      <td>2</td>\n",
       "      <td>2</td>\n",
       "      <td>1</td>\n",
       "      <td>2</td>\n",
       "      <td>NO</td>\n",
       "    </tr>\n",
       "    <tr>\n",
       "      <th>3</th>\n",
       "      <td>M</td>\n",
       "      <td>63</td>\n",
       "      <td>2</td>\n",
       "      <td>2</td>\n",
       "      <td>2</td>\n",
       "      <td>1</td>\n",
       "      <td>1</td>\n",
       "      <td>1</td>\n",
       "      <td>1</td>\n",
       "      <td>1</td>\n",
       "      <td>2</td>\n",
       "      <td>1</td>\n",
       "      <td>1</td>\n",
       "      <td>2</td>\n",
       "      <td>2</td>\n",
       "      <td>NO</td>\n",
       "    </tr>\n",
       "    <tr>\n",
       "      <th>4</th>\n",
       "      <td>F</td>\n",
       "      <td>63</td>\n",
       "      <td>1</td>\n",
       "      <td>2</td>\n",
       "      <td>1</td>\n",
       "      <td>1</td>\n",
       "      <td>1</td>\n",
       "      <td>1</td>\n",
       "      <td>1</td>\n",
       "      <td>2</td>\n",
       "      <td>1</td>\n",
       "      <td>2</td>\n",
       "      <td>2</td>\n",
       "      <td>1</td>\n",
       "      <td>1</td>\n",
       "      <td>NO</td>\n",
       "    </tr>\n",
       "  </tbody>\n",
       "</table>\n",
       "</div>"
      ],
      "text/plain": [
       "  GENDER  AGE  SMOKING  YELLOW_FINGERS  ANXIETY  PEER_PRESSURE  \\\n",
       "0      M   69        1               2        2              1   \n",
       "1      M   74        2               1        1              1   \n",
       "2      F   59        1               1        1              2   \n",
       "3      M   63        2               2        2              1   \n",
       "4      F   63        1               2        1              1   \n",
       "\n",
       "   CHRONIC DISEASE  FATIGUE   ALLERGY   WHEEZING  ALCOHOL CONSUMING  COUGHING  \\\n",
       "0                1         2         1         2                  2         2   \n",
       "1                2         2         2         1                  1         1   \n",
       "2                1         2         1         2                  1         2   \n",
       "3                1         1         1         1                  2         1   \n",
       "4                1         1         1         2                  1         2   \n",
       "\n",
       "   SHORTNESS OF BREATH  SWALLOWING DIFFICULTY  CHEST PAIN LUNG_CANCER  \n",
       "0                    2                      2           2         YES  \n",
       "1                    2                      2           2         YES  \n",
       "2                    2                      1           2          NO  \n",
       "3                    1                      2           2          NO  \n",
       "4                    2                      1           1          NO  "
      ]
     },
     "execution_count": 4,
     "metadata": {},
     "output_type": "execute_result"
    }
   ],
   "source": [
    "#Check Data\n",
    "df.head()"
   ]
  },
  {
   "cell_type": "code",
   "execution_count": 5,
   "id": "31518c0e",
   "metadata": {
    "execution": {
     "iopub.execute_input": "2024-12-04T13:00:18.763696Z",
     "iopub.status.busy": "2024-12-04T13:00:18.763266Z",
     "iopub.status.idle": "2024-12-04T13:00:18.770824Z",
     "shell.execute_reply": "2024-12-04T13:00:18.769546Z"
    },
    "papermill": {
     "duration": 0.022294,
     "end_time": "2024-12-04T13:00:18.772992",
     "exception": false,
     "start_time": "2024-12-04T13:00:18.750698",
     "status": "completed"
    },
    "tags": []
   },
   "outputs": [
    {
     "data": {
      "text/plain": [
       "Index(['GENDER', 'AGE', 'SMOKING', 'YELLOW_FINGERS', 'ANXIETY',\n",
       "       'PEER_PRESSURE', 'CHRONIC DISEASE', 'FATIGUE ', 'ALLERGY ', 'WHEEZING',\n",
       "       'ALCOHOL CONSUMING', 'COUGHING', 'SHORTNESS OF BREATH',\n",
       "       'SWALLOWING DIFFICULTY', 'CHEST PAIN', 'LUNG_CANCER'],\n",
       "      dtype='object')"
      ]
     },
     "execution_count": 5,
     "metadata": {},
     "output_type": "execute_result"
    }
   ],
   "source": [
    "#Print Columns\n",
    "df.columns"
   ]
  },
  {
   "cell_type": "code",
   "execution_count": 6,
   "id": "1e2061d1",
   "metadata": {
    "execution": {
     "iopub.execute_input": "2024-12-04T13:00:18.797350Z",
     "iopub.status.busy": "2024-12-04T13:00:18.796964Z",
     "iopub.status.idle": "2024-12-04T13:00:18.806204Z",
     "shell.execute_reply": "2024-12-04T13:00:18.805008Z"
    },
    "papermill": {
     "duration": 0.02455,
     "end_time": "2024-12-04T13:00:18.808681",
     "exception": false,
     "start_time": "2024-12-04T13:00:18.784131",
     "status": "completed"
    },
    "tags": []
   },
   "outputs": [
    {
     "data": {
      "text/plain": [
       "GENDER                   object\n",
       "AGE                       int64\n",
       "SMOKING                   int64\n",
       "YELLOW_FINGERS            int64\n",
       "ANXIETY                   int64\n",
       "PEER_PRESSURE             int64\n",
       "CHRONIC DISEASE           int64\n",
       "FATIGUE                   int64\n",
       "ALLERGY                   int64\n",
       "WHEEZING                  int64\n",
       "ALCOHOL CONSUMING         int64\n",
       "COUGHING                  int64\n",
       "SHORTNESS OF BREATH       int64\n",
       "SWALLOWING DIFFICULTY     int64\n",
       "CHEST PAIN                int64\n",
       "LUNG_CANCER              object\n",
       "dtype: object"
      ]
     },
     "execution_count": 6,
     "metadata": {},
     "output_type": "execute_result"
    }
   ],
   "source": [
    "#Get to know the data types that exist in data\n",
    "df.dtypes"
   ]
  },
  {
   "cell_type": "code",
   "execution_count": 7,
   "id": "92f9e6bb",
   "metadata": {
    "execution": {
     "iopub.execute_input": "2024-12-04T13:00:18.834909Z",
     "iopub.status.busy": "2024-12-04T13:00:18.834479Z",
     "iopub.status.idle": "2024-12-04T13:00:18.893421Z",
     "shell.execute_reply": "2024-12-04T13:00:18.892064Z"
    },
    "papermill": {
     "duration": 0.074206,
     "end_time": "2024-12-04T13:00:18.896045",
     "exception": false,
     "start_time": "2024-12-04T13:00:18.821839",
     "status": "completed"
    },
    "tags": []
   },
   "outputs": [
    {
     "data": {
      "text/html": [
       "<div>\n",
       "<style scoped>\n",
       "    .dataframe tbody tr th:only-of-type {\n",
       "        vertical-align: middle;\n",
       "    }\n",
       "\n",
       "    .dataframe tbody tr th {\n",
       "        vertical-align: top;\n",
       "    }\n",
       "\n",
       "    .dataframe thead th {\n",
       "        text-align: right;\n",
       "    }\n",
       "</style>\n",
       "<table border=\"1\" class=\"dataframe\">\n",
       "  <thead>\n",
       "    <tr style=\"text-align: right;\">\n",
       "      <th></th>\n",
       "      <th>AGE</th>\n",
       "      <th>SMOKING</th>\n",
       "      <th>YELLOW_FINGERS</th>\n",
       "      <th>ANXIETY</th>\n",
       "      <th>PEER_PRESSURE</th>\n",
       "      <th>CHRONIC DISEASE</th>\n",
       "      <th>FATIGUE</th>\n",
       "      <th>ALLERGY</th>\n",
       "      <th>WHEEZING</th>\n",
       "      <th>ALCOHOL CONSUMING</th>\n",
       "      <th>COUGHING</th>\n",
       "      <th>SHORTNESS OF BREATH</th>\n",
       "      <th>SWALLOWING DIFFICULTY</th>\n",
       "      <th>CHEST PAIN</th>\n",
       "    </tr>\n",
       "  </thead>\n",
       "  <tbody>\n",
       "    <tr>\n",
       "      <th>count</th>\n",
       "      <td>309.000000</td>\n",
       "      <td>309.000000</td>\n",
       "      <td>309.000000</td>\n",
       "      <td>309.000000</td>\n",
       "      <td>309.000000</td>\n",
       "      <td>309.000000</td>\n",
       "      <td>309.000000</td>\n",
       "      <td>309.000000</td>\n",
       "      <td>309.000000</td>\n",
       "      <td>309.000000</td>\n",
       "      <td>309.000000</td>\n",
       "      <td>309.000000</td>\n",
       "      <td>309.000000</td>\n",
       "      <td>309.000000</td>\n",
       "    </tr>\n",
       "    <tr>\n",
       "      <th>mean</th>\n",
       "      <td>62.673139</td>\n",
       "      <td>1.563107</td>\n",
       "      <td>1.569579</td>\n",
       "      <td>1.498382</td>\n",
       "      <td>1.501618</td>\n",
       "      <td>1.504854</td>\n",
       "      <td>1.673139</td>\n",
       "      <td>1.556634</td>\n",
       "      <td>1.556634</td>\n",
       "      <td>1.556634</td>\n",
       "      <td>1.579288</td>\n",
       "      <td>1.640777</td>\n",
       "      <td>1.469256</td>\n",
       "      <td>1.556634</td>\n",
       "    </tr>\n",
       "    <tr>\n",
       "      <th>std</th>\n",
       "      <td>8.210301</td>\n",
       "      <td>0.496806</td>\n",
       "      <td>0.495938</td>\n",
       "      <td>0.500808</td>\n",
       "      <td>0.500808</td>\n",
       "      <td>0.500787</td>\n",
       "      <td>0.469827</td>\n",
       "      <td>0.497588</td>\n",
       "      <td>0.497588</td>\n",
       "      <td>0.497588</td>\n",
       "      <td>0.494474</td>\n",
       "      <td>0.480551</td>\n",
       "      <td>0.499863</td>\n",
       "      <td>0.497588</td>\n",
       "    </tr>\n",
       "    <tr>\n",
       "      <th>min</th>\n",
       "      <td>21.000000</td>\n",
       "      <td>1.000000</td>\n",
       "      <td>1.000000</td>\n",
       "      <td>1.000000</td>\n",
       "      <td>1.000000</td>\n",
       "      <td>1.000000</td>\n",
       "      <td>1.000000</td>\n",
       "      <td>1.000000</td>\n",
       "      <td>1.000000</td>\n",
       "      <td>1.000000</td>\n",
       "      <td>1.000000</td>\n",
       "      <td>1.000000</td>\n",
       "      <td>1.000000</td>\n",
       "      <td>1.000000</td>\n",
       "    </tr>\n",
       "    <tr>\n",
       "      <th>25%</th>\n",
       "      <td>57.000000</td>\n",
       "      <td>1.000000</td>\n",
       "      <td>1.000000</td>\n",
       "      <td>1.000000</td>\n",
       "      <td>1.000000</td>\n",
       "      <td>1.000000</td>\n",
       "      <td>1.000000</td>\n",
       "      <td>1.000000</td>\n",
       "      <td>1.000000</td>\n",
       "      <td>1.000000</td>\n",
       "      <td>1.000000</td>\n",
       "      <td>1.000000</td>\n",
       "      <td>1.000000</td>\n",
       "      <td>1.000000</td>\n",
       "    </tr>\n",
       "    <tr>\n",
       "      <th>50%</th>\n",
       "      <td>62.000000</td>\n",
       "      <td>2.000000</td>\n",
       "      <td>2.000000</td>\n",
       "      <td>1.000000</td>\n",
       "      <td>2.000000</td>\n",
       "      <td>2.000000</td>\n",
       "      <td>2.000000</td>\n",
       "      <td>2.000000</td>\n",
       "      <td>2.000000</td>\n",
       "      <td>2.000000</td>\n",
       "      <td>2.000000</td>\n",
       "      <td>2.000000</td>\n",
       "      <td>1.000000</td>\n",
       "      <td>2.000000</td>\n",
       "    </tr>\n",
       "    <tr>\n",
       "      <th>75%</th>\n",
       "      <td>69.000000</td>\n",
       "      <td>2.000000</td>\n",
       "      <td>2.000000</td>\n",
       "      <td>2.000000</td>\n",
       "      <td>2.000000</td>\n",
       "      <td>2.000000</td>\n",
       "      <td>2.000000</td>\n",
       "      <td>2.000000</td>\n",
       "      <td>2.000000</td>\n",
       "      <td>2.000000</td>\n",
       "      <td>2.000000</td>\n",
       "      <td>2.000000</td>\n",
       "      <td>2.000000</td>\n",
       "      <td>2.000000</td>\n",
       "    </tr>\n",
       "    <tr>\n",
       "      <th>max</th>\n",
       "      <td>87.000000</td>\n",
       "      <td>2.000000</td>\n",
       "      <td>2.000000</td>\n",
       "      <td>2.000000</td>\n",
       "      <td>2.000000</td>\n",
       "      <td>2.000000</td>\n",
       "      <td>2.000000</td>\n",
       "      <td>2.000000</td>\n",
       "      <td>2.000000</td>\n",
       "      <td>2.000000</td>\n",
       "      <td>2.000000</td>\n",
       "      <td>2.000000</td>\n",
       "      <td>2.000000</td>\n",
       "      <td>2.000000</td>\n",
       "    </tr>\n",
       "  </tbody>\n",
       "</table>\n",
       "</div>"
      ],
      "text/plain": [
       "              AGE     SMOKING  YELLOW_FINGERS     ANXIETY  PEER_PRESSURE  \\\n",
       "count  309.000000  309.000000      309.000000  309.000000     309.000000   \n",
       "mean    62.673139    1.563107        1.569579    1.498382       1.501618   \n",
       "std      8.210301    0.496806        0.495938    0.500808       0.500808   \n",
       "min     21.000000    1.000000        1.000000    1.000000       1.000000   \n",
       "25%     57.000000    1.000000        1.000000    1.000000       1.000000   \n",
       "50%     62.000000    2.000000        2.000000    1.000000       2.000000   \n",
       "75%     69.000000    2.000000        2.000000    2.000000       2.000000   \n",
       "max     87.000000    2.000000        2.000000    2.000000       2.000000   \n",
       "\n",
       "       CHRONIC DISEASE    FATIGUE     ALLERGY     WHEEZING  ALCOHOL CONSUMING  \\\n",
       "count       309.000000  309.000000  309.000000  309.000000         309.000000   \n",
       "mean          1.504854    1.673139    1.556634    1.556634           1.556634   \n",
       "std           0.500787    0.469827    0.497588    0.497588           0.497588   \n",
       "min           1.000000    1.000000    1.000000    1.000000           1.000000   \n",
       "25%           1.000000    1.000000    1.000000    1.000000           1.000000   \n",
       "50%           2.000000    2.000000    2.000000    2.000000           2.000000   \n",
       "75%           2.000000    2.000000    2.000000    2.000000           2.000000   \n",
       "max           2.000000    2.000000    2.000000    2.000000           2.000000   \n",
       "\n",
       "         COUGHING  SHORTNESS OF BREATH  SWALLOWING DIFFICULTY  CHEST PAIN  \n",
       "count  309.000000           309.000000             309.000000  309.000000  \n",
       "mean     1.579288             1.640777               1.469256    1.556634  \n",
       "std      0.494474             0.480551               0.499863    0.497588  \n",
       "min      1.000000             1.000000               1.000000    1.000000  \n",
       "25%      1.000000             1.000000               1.000000    1.000000  \n",
       "50%      2.000000             2.000000               1.000000    2.000000  \n",
       "75%      2.000000             2.000000               2.000000    2.000000  \n",
       "max      2.000000             2.000000               2.000000    2.000000  "
      ]
     },
     "execution_count": 7,
     "metadata": {},
     "output_type": "execute_result"
    }
   ],
   "source": [
    "#Summary of data\n",
    "df.describe()"
   ]
  },
  {
   "cell_type": "code",
   "execution_count": 8,
   "id": "bcdd6714",
   "metadata": {
    "execution": {
     "iopub.execute_input": "2024-12-04T13:00:18.921991Z",
     "iopub.status.busy": "2024-12-04T13:00:18.921613Z",
     "iopub.status.idle": "2024-12-04T13:00:18.931090Z",
     "shell.execute_reply": "2024-12-04T13:00:18.929944Z"
    },
    "papermill": {
     "duration": 0.025549,
     "end_time": "2024-12-04T13:00:18.933534",
     "exception": false,
     "start_time": "2024-12-04T13:00:18.907985",
     "status": "completed"
    },
    "tags": []
   },
   "outputs": [
    {
     "data": {
      "text/plain": [
       "GENDER                   0\n",
       "AGE                      0\n",
       "SMOKING                  0\n",
       "YELLOW_FINGERS           0\n",
       "ANXIETY                  0\n",
       "PEER_PRESSURE            0\n",
       "CHRONIC DISEASE          0\n",
       "FATIGUE                  0\n",
       "ALLERGY                  0\n",
       "WHEEZING                 0\n",
       "ALCOHOL CONSUMING        0\n",
       "COUGHING                 0\n",
       "SHORTNESS OF BREATH      0\n",
       "SWALLOWING DIFFICULTY    0\n",
       "CHEST PAIN               0\n",
       "LUNG_CANCER              0\n",
       "dtype: int64"
      ]
     },
     "execution_count": 8,
     "metadata": {},
     "output_type": "execute_result"
    }
   ],
   "source": [
    "#See Missing Values\n",
    "df.isnull().sum()"
   ]
  },
  {
   "cell_type": "markdown",
   "id": "165aa894",
   "metadata": {
    "papermill": {
     "duration": 0.011489,
     "end_time": "2024-12-04T13:00:18.957938",
     "exception": false,
     "start_time": "2024-12-04T13:00:18.946449",
     "status": "completed"
    },
    "tags": []
   },
   "source": [
    "## 2. Data Preprocessing"
   ]
  },
  {
   "cell_type": "code",
   "execution_count": 9,
   "id": "a10c402d",
   "metadata": {
    "execution": {
     "iopub.execute_input": "2024-12-04T13:00:18.983452Z",
     "iopub.status.busy": "2024-12-04T13:00:18.983063Z",
     "iopub.status.idle": "2024-12-04T13:00:18.988695Z",
     "shell.execute_reply": "2024-12-04T13:00:18.987499Z"
    },
    "papermill": {
     "duration": 0.021053,
     "end_time": "2024-12-04T13:00:18.990892",
     "exception": false,
     "start_time": "2024-12-04T13:00:18.969839",
     "status": "completed"
    },
    "tags": []
   },
   "outputs": [],
   "source": [
    "#Case Formatting\n",
    "df.columns=df.columns.str.title()"
   ]
  },
  {
   "cell_type": "code",
   "execution_count": 10,
   "id": "c4f934c0",
   "metadata": {
    "execution": {
     "iopub.execute_input": "2024-12-04T13:00:19.016862Z",
     "iopub.status.busy": "2024-12-04T13:00:19.016449Z",
     "iopub.status.idle": "2024-12-04T13:00:19.032209Z",
     "shell.execute_reply": "2024-12-04T13:00:19.030979Z"
    },
    "papermill": {
     "duration": 0.031539,
     "end_time": "2024-12-04T13:00:19.034829",
     "exception": false,
     "start_time": "2024-12-04T13:00:19.003290",
     "status": "completed"
    },
    "tags": []
   },
   "outputs": [
    {
     "data": {
      "text/html": [
       "<div>\n",
       "<style scoped>\n",
       "    .dataframe tbody tr th:only-of-type {\n",
       "        vertical-align: middle;\n",
       "    }\n",
       "\n",
       "    .dataframe tbody tr th {\n",
       "        vertical-align: top;\n",
       "    }\n",
       "\n",
       "    .dataframe thead th {\n",
       "        text-align: right;\n",
       "    }\n",
       "</style>\n",
       "<table border=\"1\" class=\"dataframe\">\n",
       "  <thead>\n",
       "    <tr style=\"text-align: right;\">\n",
       "      <th></th>\n",
       "      <th>Gender</th>\n",
       "      <th>Age</th>\n",
       "      <th>Smoking</th>\n",
       "      <th>Yellow_Fingers</th>\n",
       "      <th>Anxiety</th>\n",
       "      <th>Peer_Pressure</th>\n",
       "      <th>Chronic Disease</th>\n",
       "      <th>Fatigue</th>\n",
       "      <th>Allergy</th>\n",
       "      <th>Wheezing</th>\n",
       "      <th>Alcohol Consuming</th>\n",
       "      <th>Coughing</th>\n",
       "      <th>Shortness Of Breath</th>\n",
       "      <th>Swallowing Difficulty</th>\n",
       "      <th>Chest Pain</th>\n",
       "      <th>Lung_Cancer</th>\n",
       "    </tr>\n",
       "  </thead>\n",
       "  <tbody>\n",
       "    <tr>\n",
       "      <th>0</th>\n",
       "      <td>M</td>\n",
       "      <td>69</td>\n",
       "      <td>1</td>\n",
       "      <td>2</td>\n",
       "      <td>2</td>\n",
       "      <td>1</td>\n",
       "      <td>1</td>\n",
       "      <td>2</td>\n",
       "      <td>1</td>\n",
       "      <td>2</td>\n",
       "      <td>2</td>\n",
       "      <td>2</td>\n",
       "      <td>2</td>\n",
       "      <td>2</td>\n",
       "      <td>2</td>\n",
       "      <td>YES</td>\n",
       "    </tr>\n",
       "    <tr>\n",
       "      <th>1</th>\n",
       "      <td>M</td>\n",
       "      <td>74</td>\n",
       "      <td>2</td>\n",
       "      <td>1</td>\n",
       "      <td>1</td>\n",
       "      <td>1</td>\n",
       "      <td>2</td>\n",
       "      <td>2</td>\n",
       "      <td>2</td>\n",
       "      <td>1</td>\n",
       "      <td>1</td>\n",
       "      <td>1</td>\n",
       "      <td>2</td>\n",
       "      <td>2</td>\n",
       "      <td>2</td>\n",
       "      <td>YES</td>\n",
       "    </tr>\n",
       "    <tr>\n",
       "      <th>2</th>\n",
       "      <td>F</td>\n",
       "      <td>59</td>\n",
       "      <td>1</td>\n",
       "      <td>1</td>\n",
       "      <td>1</td>\n",
       "      <td>2</td>\n",
       "      <td>1</td>\n",
       "      <td>2</td>\n",
       "      <td>1</td>\n",
       "      <td>2</td>\n",
       "      <td>1</td>\n",
       "      <td>2</td>\n",
       "      <td>2</td>\n",
       "      <td>1</td>\n",
       "      <td>2</td>\n",
       "      <td>NO</td>\n",
       "    </tr>\n",
       "    <tr>\n",
       "      <th>3</th>\n",
       "      <td>M</td>\n",
       "      <td>63</td>\n",
       "      <td>2</td>\n",
       "      <td>2</td>\n",
       "      <td>2</td>\n",
       "      <td>1</td>\n",
       "      <td>1</td>\n",
       "      <td>1</td>\n",
       "      <td>1</td>\n",
       "      <td>1</td>\n",
       "      <td>2</td>\n",
       "      <td>1</td>\n",
       "      <td>1</td>\n",
       "      <td>2</td>\n",
       "      <td>2</td>\n",
       "      <td>NO</td>\n",
       "    </tr>\n",
       "    <tr>\n",
       "      <th>4</th>\n",
       "      <td>F</td>\n",
       "      <td>63</td>\n",
       "      <td>1</td>\n",
       "      <td>2</td>\n",
       "      <td>1</td>\n",
       "      <td>1</td>\n",
       "      <td>1</td>\n",
       "      <td>1</td>\n",
       "      <td>1</td>\n",
       "      <td>2</td>\n",
       "      <td>1</td>\n",
       "      <td>2</td>\n",
       "      <td>2</td>\n",
       "      <td>1</td>\n",
       "      <td>1</td>\n",
       "      <td>NO</td>\n",
       "    </tr>\n",
       "    <tr>\n",
       "      <th>5</th>\n",
       "      <td>F</td>\n",
       "      <td>75</td>\n",
       "      <td>1</td>\n",
       "      <td>2</td>\n",
       "      <td>1</td>\n",
       "      <td>1</td>\n",
       "      <td>2</td>\n",
       "      <td>2</td>\n",
       "      <td>2</td>\n",
       "      <td>2</td>\n",
       "      <td>1</td>\n",
       "      <td>2</td>\n",
       "      <td>2</td>\n",
       "      <td>1</td>\n",
       "      <td>1</td>\n",
       "      <td>YES</td>\n",
       "    </tr>\n",
       "    <tr>\n",
       "      <th>6</th>\n",
       "      <td>M</td>\n",
       "      <td>52</td>\n",
       "      <td>2</td>\n",
       "      <td>1</td>\n",
       "      <td>1</td>\n",
       "      <td>1</td>\n",
       "      <td>1</td>\n",
       "      <td>2</td>\n",
       "      <td>1</td>\n",
       "      <td>2</td>\n",
       "      <td>2</td>\n",
       "      <td>2</td>\n",
       "      <td>2</td>\n",
       "      <td>1</td>\n",
       "      <td>2</td>\n",
       "      <td>YES</td>\n",
       "    </tr>\n",
       "    <tr>\n",
       "      <th>7</th>\n",
       "      <td>F</td>\n",
       "      <td>51</td>\n",
       "      <td>2</td>\n",
       "      <td>2</td>\n",
       "      <td>2</td>\n",
       "      <td>2</td>\n",
       "      <td>1</td>\n",
       "      <td>2</td>\n",
       "      <td>2</td>\n",
       "      <td>1</td>\n",
       "      <td>1</td>\n",
       "      <td>1</td>\n",
       "      <td>2</td>\n",
       "      <td>2</td>\n",
       "      <td>1</td>\n",
       "      <td>YES</td>\n",
       "    </tr>\n",
       "    <tr>\n",
       "      <th>8</th>\n",
       "      <td>F</td>\n",
       "      <td>68</td>\n",
       "      <td>2</td>\n",
       "      <td>1</td>\n",
       "      <td>2</td>\n",
       "      <td>1</td>\n",
       "      <td>1</td>\n",
       "      <td>2</td>\n",
       "      <td>1</td>\n",
       "      <td>1</td>\n",
       "      <td>1</td>\n",
       "      <td>1</td>\n",
       "      <td>1</td>\n",
       "      <td>1</td>\n",
       "      <td>1</td>\n",
       "      <td>NO</td>\n",
       "    </tr>\n",
       "    <tr>\n",
       "      <th>9</th>\n",
       "      <td>M</td>\n",
       "      <td>53</td>\n",
       "      <td>2</td>\n",
       "      <td>2</td>\n",
       "      <td>2</td>\n",
       "      <td>2</td>\n",
       "      <td>2</td>\n",
       "      <td>1</td>\n",
       "      <td>2</td>\n",
       "      <td>1</td>\n",
       "      <td>2</td>\n",
       "      <td>1</td>\n",
       "      <td>1</td>\n",
       "      <td>2</td>\n",
       "      <td>2</td>\n",
       "      <td>YES</td>\n",
       "    </tr>\n",
       "  </tbody>\n",
       "</table>\n",
       "</div>"
      ],
      "text/plain": [
       "  Gender  Age  Smoking  Yellow_Fingers  Anxiety  Peer_Pressure  \\\n",
       "0      M   69        1               2        2              1   \n",
       "1      M   74        2               1        1              1   \n",
       "2      F   59        1               1        1              2   \n",
       "3      M   63        2               2        2              1   \n",
       "4      F   63        1               2        1              1   \n",
       "5      F   75        1               2        1              1   \n",
       "6      M   52        2               1        1              1   \n",
       "7      F   51        2               2        2              2   \n",
       "8      F   68        2               1        2              1   \n",
       "9      M   53        2               2        2              2   \n",
       "\n",
       "   Chronic Disease  Fatigue   Allergy   Wheezing  Alcohol Consuming  Coughing  \\\n",
       "0                1         2         1         2                  2         2   \n",
       "1                2         2         2         1                  1         1   \n",
       "2                1         2         1         2                  1         2   \n",
       "3                1         1         1         1                  2         1   \n",
       "4                1         1         1         2                  1         2   \n",
       "5                2         2         2         2                  1         2   \n",
       "6                1         2         1         2                  2         2   \n",
       "7                1         2         2         1                  1         1   \n",
       "8                1         2         1         1                  1         1   \n",
       "9                2         1         2         1                  2         1   \n",
       "\n",
       "   Shortness Of Breath  Swallowing Difficulty  Chest Pain Lung_Cancer  \n",
       "0                    2                      2           2         YES  \n",
       "1                    2                      2           2         YES  \n",
       "2                    2                      1           2          NO  \n",
       "3                    1                      2           2          NO  \n",
       "4                    2                      1           1          NO  \n",
       "5                    2                      1           1         YES  \n",
       "6                    2                      1           2         YES  \n",
       "7                    2                      2           1         YES  \n",
       "8                    1                      1           1          NO  \n",
       "9                    1                      2           2         YES  "
      ]
     },
     "execution_count": 10,
     "metadata": {},
     "output_type": "execute_result"
    }
   ],
   "source": [
    "#Check Fomatting\n",
    "df.head(10)"
   ]
  },
  {
   "cell_type": "code",
   "execution_count": 11,
   "id": "c02bff97",
   "metadata": {
    "execution": {
     "iopub.execute_input": "2024-12-04T13:00:19.061332Z",
     "iopub.status.busy": "2024-12-04T13:00:19.060977Z",
     "iopub.status.idle": "2024-12-04T13:00:19.068470Z",
     "shell.execute_reply": "2024-12-04T13:00:19.067334Z"
    },
    "papermill": {
     "duration": 0.023157,
     "end_time": "2024-12-04T13:00:19.070717",
     "exception": false,
     "start_time": "2024-12-04T13:00:19.047560",
     "status": "completed"
    },
    "tags": []
   },
   "outputs": [
    {
     "data": {
      "text/plain": [
       "Index(['Gender', 'Age', 'Smoking', 'Yellow_Fingers', 'Anxiety',\n",
       "       'Peer_Pressure', 'Chronic Disease', 'Fatigue ', 'Allergy ', 'Wheezing',\n",
       "       'Alcohol Consuming', 'Coughing', 'Shortness Of Breath',\n",
       "       'Swallowing Difficulty', 'Chest Pain', 'Lung_Cancer'],\n",
       "      dtype='object')"
      ]
     },
     "execution_count": 11,
     "metadata": {},
     "output_type": "execute_result"
    }
   ],
   "source": [
    "#Check Formatting\n",
    "df.columns"
   ]
  },
  {
   "cell_type": "code",
   "execution_count": 12,
   "id": "2195a828",
   "metadata": {
    "execution": {
     "iopub.execute_input": "2024-12-04T13:00:19.096700Z",
     "iopub.status.busy": "2024-12-04T13:00:19.096268Z",
     "iopub.status.idle": "2024-12-04T13:00:19.110943Z",
     "shell.execute_reply": "2024-12-04T13:00:19.109931Z"
    },
    "papermill": {
     "duration": 0.030408,
     "end_time": "2024-12-04T13:00:19.113310",
     "exception": false,
     "start_time": "2024-12-04T13:00:19.082902",
     "status": "completed"
    },
    "tags": []
   },
   "outputs": [],
   "source": [
    "#Change data for better understanding\n",
    "df[\"Gender\"]=df[\"Gender\"].replace([\"M\",\"F\"],[\"Male\",\"Female\"])\n",
    "\n",
    "#Replace 1&2 with 0&1 for better understanding\n",
    "col=[\"Smoking\",\"Yellow_Fingers\",\"Anxiety\",\"Peer_Pressure\",\"Chronic Disease\",\"Fatigue \",\"Allergy \",\"Wheezing\",\"Alcohol Consuming\",\"Coughing\",\"Shortness Of Breath\",\"Swallowing Difficulty\",\"Chest Pain\"]\n",
    "for x in col:\n",
    "        df[x]=df[x].replace([1,2],[0,1])"
   ]
  },
  {
   "cell_type": "code",
   "execution_count": 13,
   "id": "e234296b",
   "metadata": {
    "execution": {
     "iopub.execute_input": "2024-12-04T13:00:19.140370Z",
     "iopub.status.busy": "2024-12-04T13:00:19.139950Z",
     "iopub.status.idle": "2024-12-04T13:00:19.157001Z",
     "shell.execute_reply": "2024-12-04T13:00:19.155802Z"
    },
    "papermill": {
     "duration": 0.033458,
     "end_time": "2024-12-04T13:00:19.159314",
     "exception": false,
     "start_time": "2024-12-04T13:00:19.125856",
     "status": "completed"
    },
    "tags": []
   },
   "outputs": [
    {
     "data": {
      "text/html": [
       "<div>\n",
       "<style scoped>\n",
       "    .dataframe tbody tr th:only-of-type {\n",
       "        vertical-align: middle;\n",
       "    }\n",
       "\n",
       "    .dataframe tbody tr th {\n",
       "        vertical-align: top;\n",
       "    }\n",
       "\n",
       "    .dataframe thead th {\n",
       "        text-align: right;\n",
       "    }\n",
       "</style>\n",
       "<table border=\"1\" class=\"dataframe\">\n",
       "  <thead>\n",
       "    <tr style=\"text-align: right;\">\n",
       "      <th></th>\n",
       "      <th>Gender</th>\n",
       "      <th>Age</th>\n",
       "      <th>Smoking</th>\n",
       "      <th>Yellow_Fingers</th>\n",
       "      <th>Anxiety</th>\n",
       "      <th>Peer_Pressure</th>\n",
       "      <th>Chronic Disease</th>\n",
       "      <th>Fatigue</th>\n",
       "      <th>Allergy</th>\n",
       "      <th>Wheezing</th>\n",
       "      <th>Alcohol Consuming</th>\n",
       "      <th>Coughing</th>\n",
       "      <th>Shortness Of Breath</th>\n",
       "      <th>Swallowing Difficulty</th>\n",
       "      <th>Chest Pain</th>\n",
       "      <th>Lung_Cancer</th>\n",
       "    </tr>\n",
       "  </thead>\n",
       "  <tbody>\n",
       "    <tr>\n",
       "      <th>0</th>\n",
       "      <td>Male</td>\n",
       "      <td>69</td>\n",
       "      <td>0</td>\n",
       "      <td>1</td>\n",
       "      <td>1</td>\n",
       "      <td>0</td>\n",
       "      <td>0</td>\n",
       "      <td>1</td>\n",
       "      <td>0</td>\n",
       "      <td>1</td>\n",
       "      <td>1</td>\n",
       "      <td>1</td>\n",
       "      <td>1</td>\n",
       "      <td>1</td>\n",
       "      <td>1</td>\n",
       "      <td>YES</td>\n",
       "    </tr>\n",
       "    <tr>\n",
       "      <th>1</th>\n",
       "      <td>Male</td>\n",
       "      <td>74</td>\n",
       "      <td>1</td>\n",
       "      <td>0</td>\n",
       "      <td>0</td>\n",
       "      <td>0</td>\n",
       "      <td>1</td>\n",
       "      <td>1</td>\n",
       "      <td>1</td>\n",
       "      <td>0</td>\n",
       "      <td>0</td>\n",
       "      <td>0</td>\n",
       "      <td>1</td>\n",
       "      <td>1</td>\n",
       "      <td>1</td>\n",
       "      <td>YES</td>\n",
       "    </tr>\n",
       "    <tr>\n",
       "      <th>2</th>\n",
       "      <td>Female</td>\n",
       "      <td>59</td>\n",
       "      <td>0</td>\n",
       "      <td>0</td>\n",
       "      <td>0</td>\n",
       "      <td>1</td>\n",
       "      <td>0</td>\n",
       "      <td>1</td>\n",
       "      <td>0</td>\n",
       "      <td>1</td>\n",
       "      <td>0</td>\n",
       "      <td>1</td>\n",
       "      <td>1</td>\n",
       "      <td>0</td>\n",
       "      <td>1</td>\n",
       "      <td>NO</td>\n",
       "    </tr>\n",
       "    <tr>\n",
       "      <th>3</th>\n",
       "      <td>Male</td>\n",
       "      <td>63</td>\n",
       "      <td>1</td>\n",
       "      <td>1</td>\n",
       "      <td>1</td>\n",
       "      <td>0</td>\n",
       "      <td>0</td>\n",
       "      <td>0</td>\n",
       "      <td>0</td>\n",
       "      <td>0</td>\n",
       "      <td>1</td>\n",
       "      <td>0</td>\n",
       "      <td>0</td>\n",
       "      <td>1</td>\n",
       "      <td>1</td>\n",
       "      <td>NO</td>\n",
       "    </tr>\n",
       "    <tr>\n",
       "      <th>4</th>\n",
       "      <td>Female</td>\n",
       "      <td>63</td>\n",
       "      <td>0</td>\n",
       "      <td>1</td>\n",
       "      <td>0</td>\n",
       "      <td>0</td>\n",
       "      <td>0</td>\n",
       "      <td>0</td>\n",
       "      <td>0</td>\n",
       "      <td>1</td>\n",
       "      <td>0</td>\n",
       "      <td>1</td>\n",
       "      <td>1</td>\n",
       "      <td>0</td>\n",
       "      <td>0</td>\n",
       "      <td>NO</td>\n",
       "    </tr>\n",
       "    <tr>\n",
       "      <th>5</th>\n",
       "      <td>Female</td>\n",
       "      <td>75</td>\n",
       "      <td>0</td>\n",
       "      <td>1</td>\n",
       "      <td>0</td>\n",
       "      <td>0</td>\n",
       "      <td>1</td>\n",
       "      <td>1</td>\n",
       "      <td>1</td>\n",
       "      <td>1</td>\n",
       "      <td>0</td>\n",
       "      <td>1</td>\n",
       "      <td>1</td>\n",
       "      <td>0</td>\n",
       "      <td>0</td>\n",
       "      <td>YES</td>\n",
       "    </tr>\n",
       "    <tr>\n",
       "      <th>6</th>\n",
       "      <td>Male</td>\n",
       "      <td>52</td>\n",
       "      <td>1</td>\n",
       "      <td>0</td>\n",
       "      <td>0</td>\n",
       "      <td>0</td>\n",
       "      <td>0</td>\n",
       "      <td>1</td>\n",
       "      <td>0</td>\n",
       "      <td>1</td>\n",
       "      <td>1</td>\n",
       "      <td>1</td>\n",
       "      <td>1</td>\n",
       "      <td>0</td>\n",
       "      <td>1</td>\n",
       "      <td>YES</td>\n",
       "    </tr>\n",
       "    <tr>\n",
       "      <th>7</th>\n",
       "      <td>Female</td>\n",
       "      <td>51</td>\n",
       "      <td>1</td>\n",
       "      <td>1</td>\n",
       "      <td>1</td>\n",
       "      <td>1</td>\n",
       "      <td>0</td>\n",
       "      <td>1</td>\n",
       "      <td>1</td>\n",
       "      <td>0</td>\n",
       "      <td>0</td>\n",
       "      <td>0</td>\n",
       "      <td>1</td>\n",
       "      <td>1</td>\n",
       "      <td>0</td>\n",
       "      <td>YES</td>\n",
       "    </tr>\n",
       "    <tr>\n",
       "      <th>8</th>\n",
       "      <td>Female</td>\n",
       "      <td>68</td>\n",
       "      <td>1</td>\n",
       "      <td>0</td>\n",
       "      <td>1</td>\n",
       "      <td>0</td>\n",
       "      <td>0</td>\n",
       "      <td>1</td>\n",
       "      <td>0</td>\n",
       "      <td>0</td>\n",
       "      <td>0</td>\n",
       "      <td>0</td>\n",
       "      <td>0</td>\n",
       "      <td>0</td>\n",
       "      <td>0</td>\n",
       "      <td>NO</td>\n",
       "    </tr>\n",
       "    <tr>\n",
       "      <th>9</th>\n",
       "      <td>Male</td>\n",
       "      <td>53</td>\n",
       "      <td>1</td>\n",
       "      <td>1</td>\n",
       "      <td>1</td>\n",
       "      <td>1</td>\n",
       "      <td>1</td>\n",
       "      <td>0</td>\n",
       "      <td>1</td>\n",
       "      <td>0</td>\n",
       "      <td>1</td>\n",
       "      <td>0</td>\n",
       "      <td>0</td>\n",
       "      <td>1</td>\n",
       "      <td>1</td>\n",
       "      <td>YES</td>\n",
       "    </tr>\n",
       "  </tbody>\n",
       "</table>\n",
       "</div>"
      ],
      "text/plain": [
       "   Gender  Age  Smoking  Yellow_Fingers  Anxiety  Peer_Pressure  \\\n",
       "0    Male   69        0               1        1              0   \n",
       "1    Male   74        1               0        0              0   \n",
       "2  Female   59        0               0        0              1   \n",
       "3    Male   63        1               1        1              0   \n",
       "4  Female   63        0               1        0              0   \n",
       "5  Female   75        0               1        0              0   \n",
       "6    Male   52        1               0        0              0   \n",
       "7  Female   51        1               1        1              1   \n",
       "8  Female   68        1               0        1              0   \n",
       "9    Male   53        1               1        1              1   \n",
       "\n",
       "   Chronic Disease  Fatigue   Allergy   Wheezing  Alcohol Consuming  Coughing  \\\n",
       "0                0         1         0         1                  1         1   \n",
       "1                1         1         1         0                  0         0   \n",
       "2                0         1         0         1                  0         1   \n",
       "3                0         0         0         0                  1         0   \n",
       "4                0         0         0         1                  0         1   \n",
       "5                1         1         1         1                  0         1   \n",
       "6                0         1         0         1                  1         1   \n",
       "7                0         1         1         0                  0         0   \n",
       "8                0         1         0         0                  0         0   \n",
       "9                1         0         1         0                  1         0   \n",
       "\n",
       "   Shortness Of Breath  Swallowing Difficulty  Chest Pain Lung_Cancer  \n",
       "0                    1                      1           1         YES  \n",
       "1                    1                      1           1         YES  \n",
       "2                    1                      0           1          NO  \n",
       "3                    0                      1           1          NO  \n",
       "4                    1                      0           0          NO  \n",
       "5                    1                      0           0         YES  \n",
       "6                    1                      0           1         YES  \n",
       "7                    1                      1           0         YES  \n",
       "8                    0                      0           0          NO  \n",
       "9                    0                      1           1         YES  "
      ]
     },
     "execution_count": 13,
     "metadata": {},
     "output_type": "execute_result"
    }
   ],
   "source": [
    "#Verify Changes\n",
    "df.head(10)"
   ]
  },
  {
   "cell_type": "code",
   "execution_count": 14,
   "id": "a386c61b",
   "metadata": {
    "execution": {
     "iopub.execute_input": "2024-12-04T13:00:19.186287Z",
     "iopub.status.busy": "2024-12-04T13:00:19.185912Z",
     "iopub.status.idle": "2024-12-04T13:00:19.206017Z",
     "shell.execute_reply": "2024-12-04T13:00:19.204868Z"
    },
    "papermill": {
     "duration": 0.03628,
     "end_time": "2024-12-04T13:00:19.208291",
     "exception": false,
     "start_time": "2024-12-04T13:00:19.172011",
     "status": "completed"
    },
    "tags": []
   },
   "outputs": [
    {
     "data": {
      "text/html": [
       "<div>\n",
       "<style scoped>\n",
       "    .dataframe tbody tr th:only-of-type {\n",
       "        vertical-align: middle;\n",
       "    }\n",
       "\n",
       "    .dataframe tbody tr th {\n",
       "        vertical-align: top;\n",
       "    }\n",
       "\n",
       "    .dataframe thead th {\n",
       "        text-align: right;\n",
       "    }\n",
       "</style>\n",
       "<table border=\"1\" class=\"dataframe\">\n",
       "  <thead>\n",
       "    <tr style=\"text-align: right;\">\n",
       "      <th></th>\n",
       "      <th>Gender</th>\n",
       "      <th>Age</th>\n",
       "      <th>Smoking</th>\n",
       "      <th>Yellow_Fingers</th>\n",
       "      <th>Anxiety</th>\n",
       "      <th>Peer_Pressure</th>\n",
       "      <th>Chronic Disease</th>\n",
       "      <th>Fatigue</th>\n",
       "      <th>Allergy</th>\n",
       "      <th>Wheezing</th>\n",
       "      <th>Alcohol Consuming</th>\n",
       "      <th>Coughing</th>\n",
       "      <th>Shortness Of Breath</th>\n",
       "      <th>Swallowing Difficulty</th>\n",
       "      <th>Chest Pain</th>\n",
       "      <th>Lung_Cancer</th>\n",
       "    </tr>\n",
       "  </thead>\n",
       "  <tbody>\n",
       "    <tr>\n",
       "      <th>0</th>\n",
       "      <td>Male</td>\n",
       "      <td>69</td>\n",
       "      <td>0</td>\n",
       "      <td>1</td>\n",
       "      <td>1</td>\n",
       "      <td>0</td>\n",
       "      <td>0</td>\n",
       "      <td>1</td>\n",
       "      <td>0</td>\n",
       "      <td>1</td>\n",
       "      <td>1</td>\n",
       "      <td>1</td>\n",
       "      <td>1</td>\n",
       "      <td>1</td>\n",
       "      <td>1</td>\n",
       "      <td>YES</td>\n",
       "    </tr>\n",
       "    <tr>\n",
       "      <th>1</th>\n",
       "      <td>Male</td>\n",
       "      <td>74</td>\n",
       "      <td>1</td>\n",
       "      <td>0</td>\n",
       "      <td>0</td>\n",
       "      <td>0</td>\n",
       "      <td>1</td>\n",
       "      <td>1</td>\n",
       "      <td>1</td>\n",
       "      <td>0</td>\n",
       "      <td>0</td>\n",
       "      <td>0</td>\n",
       "      <td>1</td>\n",
       "      <td>1</td>\n",
       "      <td>1</td>\n",
       "      <td>YES</td>\n",
       "    </tr>\n",
       "    <tr>\n",
       "      <th>2</th>\n",
       "      <td>Female</td>\n",
       "      <td>59</td>\n",
       "      <td>0</td>\n",
       "      <td>0</td>\n",
       "      <td>0</td>\n",
       "      <td>1</td>\n",
       "      <td>0</td>\n",
       "      <td>1</td>\n",
       "      <td>0</td>\n",
       "      <td>1</td>\n",
       "      <td>0</td>\n",
       "      <td>1</td>\n",
       "      <td>1</td>\n",
       "      <td>0</td>\n",
       "      <td>1</td>\n",
       "      <td>NO</td>\n",
       "    </tr>\n",
       "    <tr>\n",
       "      <th>3</th>\n",
       "      <td>Male</td>\n",
       "      <td>63</td>\n",
       "      <td>1</td>\n",
       "      <td>1</td>\n",
       "      <td>1</td>\n",
       "      <td>0</td>\n",
       "      <td>0</td>\n",
       "      <td>0</td>\n",
       "      <td>0</td>\n",
       "      <td>0</td>\n",
       "      <td>1</td>\n",
       "      <td>0</td>\n",
       "      <td>0</td>\n",
       "      <td>1</td>\n",
       "      <td>1</td>\n",
       "      <td>NO</td>\n",
       "    </tr>\n",
       "    <tr>\n",
       "      <th>4</th>\n",
       "      <td>Female</td>\n",
       "      <td>63</td>\n",
       "      <td>0</td>\n",
       "      <td>1</td>\n",
       "      <td>0</td>\n",
       "      <td>0</td>\n",
       "      <td>0</td>\n",
       "      <td>0</td>\n",
       "      <td>0</td>\n",
       "      <td>1</td>\n",
       "      <td>0</td>\n",
       "      <td>1</td>\n",
       "      <td>1</td>\n",
       "      <td>0</td>\n",
       "      <td>0</td>\n",
       "      <td>NO</td>\n",
       "    </tr>\n",
       "    <tr>\n",
       "      <th>...</th>\n",
       "      <td>...</td>\n",
       "      <td>...</td>\n",
       "      <td>...</td>\n",
       "      <td>...</td>\n",
       "      <td>...</td>\n",
       "      <td>...</td>\n",
       "      <td>...</td>\n",
       "      <td>...</td>\n",
       "      <td>...</td>\n",
       "      <td>...</td>\n",
       "      <td>...</td>\n",
       "      <td>...</td>\n",
       "      <td>...</td>\n",
       "      <td>...</td>\n",
       "      <td>...</td>\n",
       "      <td>...</td>\n",
       "    </tr>\n",
       "    <tr>\n",
       "      <th>304</th>\n",
       "      <td>Female</td>\n",
       "      <td>56</td>\n",
       "      <td>0</td>\n",
       "      <td>0</td>\n",
       "      <td>0</td>\n",
       "      <td>1</td>\n",
       "      <td>1</td>\n",
       "      <td>1</td>\n",
       "      <td>0</td>\n",
       "      <td>0</td>\n",
       "      <td>1</td>\n",
       "      <td>1</td>\n",
       "      <td>1</td>\n",
       "      <td>1</td>\n",
       "      <td>0</td>\n",
       "      <td>YES</td>\n",
       "    </tr>\n",
       "    <tr>\n",
       "      <th>305</th>\n",
       "      <td>Male</td>\n",
       "      <td>70</td>\n",
       "      <td>1</td>\n",
       "      <td>0</td>\n",
       "      <td>0</td>\n",
       "      <td>0</td>\n",
       "      <td>0</td>\n",
       "      <td>1</td>\n",
       "      <td>1</td>\n",
       "      <td>1</td>\n",
       "      <td>1</td>\n",
       "      <td>1</td>\n",
       "      <td>1</td>\n",
       "      <td>0</td>\n",
       "      <td>1</td>\n",
       "      <td>YES</td>\n",
       "    </tr>\n",
       "    <tr>\n",
       "      <th>306</th>\n",
       "      <td>Male</td>\n",
       "      <td>58</td>\n",
       "      <td>1</td>\n",
       "      <td>0</td>\n",
       "      <td>0</td>\n",
       "      <td>0</td>\n",
       "      <td>0</td>\n",
       "      <td>0</td>\n",
       "      <td>1</td>\n",
       "      <td>1</td>\n",
       "      <td>1</td>\n",
       "      <td>1</td>\n",
       "      <td>0</td>\n",
       "      <td>0</td>\n",
       "      <td>1</td>\n",
       "      <td>YES</td>\n",
       "    </tr>\n",
       "    <tr>\n",
       "      <th>307</th>\n",
       "      <td>Male</td>\n",
       "      <td>67</td>\n",
       "      <td>1</td>\n",
       "      <td>0</td>\n",
       "      <td>1</td>\n",
       "      <td>0</td>\n",
       "      <td>0</td>\n",
       "      <td>1</td>\n",
       "      <td>1</td>\n",
       "      <td>0</td>\n",
       "      <td>1</td>\n",
       "      <td>1</td>\n",
       "      <td>1</td>\n",
       "      <td>0</td>\n",
       "      <td>1</td>\n",
       "      <td>YES</td>\n",
       "    </tr>\n",
       "    <tr>\n",
       "      <th>308</th>\n",
       "      <td>Male</td>\n",
       "      <td>62</td>\n",
       "      <td>0</td>\n",
       "      <td>0</td>\n",
       "      <td>0</td>\n",
       "      <td>1</td>\n",
       "      <td>0</td>\n",
       "      <td>1</td>\n",
       "      <td>1</td>\n",
       "      <td>1</td>\n",
       "      <td>1</td>\n",
       "      <td>0</td>\n",
       "      <td>0</td>\n",
       "      <td>1</td>\n",
       "      <td>0</td>\n",
       "      <td>YES</td>\n",
       "    </tr>\n",
       "  </tbody>\n",
       "</table>\n",
       "<p>309 rows × 16 columns</p>\n",
       "</div>"
      ],
      "text/plain": [
       "     Gender  Age  Smoking  Yellow_Fingers  Anxiety  Peer_Pressure  \\\n",
       "0      Male   69        0               1        1              0   \n",
       "1      Male   74        1               0        0              0   \n",
       "2    Female   59        0               0        0              1   \n",
       "3      Male   63        1               1        1              0   \n",
       "4    Female   63        0               1        0              0   \n",
       "..      ...  ...      ...             ...      ...            ...   \n",
       "304  Female   56        0               0        0              1   \n",
       "305    Male   70        1               0        0              0   \n",
       "306    Male   58        1               0        0              0   \n",
       "307    Male   67        1               0        1              0   \n",
       "308    Male   62        0               0        0              1   \n",
       "\n",
       "     Chronic Disease  Fatigue   Allergy   Wheezing  Alcohol Consuming  \\\n",
       "0                  0         1         0         1                  1   \n",
       "1                  1         1         1         0                  0   \n",
       "2                  0         1         0         1                  0   \n",
       "3                  0         0         0         0                  1   \n",
       "4                  0         0         0         1                  0   \n",
       "..               ...       ...       ...       ...                ...   \n",
       "304                1         1         0         0                  1   \n",
       "305                0         1         1         1                  1   \n",
       "306                0         0         1         1                  1   \n",
       "307                0         1         1         0                  1   \n",
       "308                0         1         1         1                  1   \n",
       "\n",
       "     Coughing  Shortness Of Breath  Swallowing Difficulty  Chest Pain  \\\n",
       "0           1                    1                      1           1   \n",
       "1           0                    1                      1           1   \n",
       "2           1                    1                      0           1   \n",
       "3           0                    0                      1           1   \n",
       "4           1                    1                      0           0   \n",
       "..        ...                  ...                    ...         ...   \n",
       "304         1                    1                      1           0   \n",
       "305         1                    1                      0           1   \n",
       "306         1                    0                      0           1   \n",
       "307         1                    1                      0           1   \n",
       "308         0                    0                      1           0   \n",
       "\n",
       "    Lung_Cancer  \n",
       "0           YES  \n",
       "1           YES  \n",
       "2            NO  \n",
       "3            NO  \n",
       "4            NO  \n",
       "..          ...  \n",
       "304         YES  \n",
       "305         YES  \n",
       "306         YES  \n",
       "307         YES  \n",
       "308         YES  \n",
       "\n",
       "[309 rows x 16 columns]"
      ]
     },
     "execution_count": 14,
     "metadata": {},
     "output_type": "execute_result"
    }
   ],
   "source": [
    "#Print whole table\n",
    "df"
   ]
  },
  {
   "cell_type": "markdown",
   "id": "5ef1c3b6",
   "metadata": {
    "papermill": {
     "duration": 0.013541,
     "end_time": "2024-12-04T13:00:19.235642",
     "exception": false,
     "start_time": "2024-12-04T13:00:19.222101",
     "status": "completed"
    },
    "tags": []
   },
   "source": [
    "## 3. Data Visualization"
   ]
  },
  {
   "cell_type": "code",
   "execution_count": 15,
   "id": "16247343",
   "metadata": {
    "execution": {
     "iopub.execute_input": "2024-12-04T13:00:19.264886Z",
     "iopub.status.busy": "2024-12-04T13:00:19.264475Z",
     "iopub.status.idle": "2024-12-04T13:00:19.272802Z",
     "shell.execute_reply": "2024-12-04T13:00:19.271380Z"
    },
    "papermill": {
     "duration": 0.026134,
     "end_time": "2024-12-04T13:00:19.275257",
     "exception": false,
     "start_time": "2024-12-04T13:00:19.249123",
     "status": "completed"
    },
    "tags": []
   },
   "outputs": [
    {
     "data": {
      "text/plain": [
       "array(['Male', 'Female'], dtype=object)"
      ]
     },
     "execution_count": 15,
     "metadata": {},
     "output_type": "execute_result"
    }
   ],
   "source": [
    "#Identify Genders\n",
    "df[\"Gender\"].unique()"
   ]
  },
  {
   "cell_type": "code",
   "execution_count": 16,
   "id": "31658835",
   "metadata": {
    "execution": {
     "iopub.execute_input": "2024-12-04T13:00:19.303679Z",
     "iopub.status.busy": "2024-12-04T13:00:19.303228Z",
     "iopub.status.idle": "2024-12-04T13:00:19.312804Z",
     "shell.execute_reply": "2024-12-04T13:00:19.311521Z"
    },
    "papermill": {
     "duration": 0.026673,
     "end_time": "2024-12-04T13:00:19.315214",
     "exception": false,
     "start_time": "2024-12-04T13:00:19.288541",
     "status": "completed"
    },
    "tags": []
   },
   "outputs": [
    {
     "data": {
      "text/plain": [
       "Male      162\n",
       "Female    147\n",
       "Name: Gender, dtype: int64"
      ]
     },
     "execution_count": 16,
     "metadata": {},
     "output_type": "execute_result"
    }
   ],
   "source": [
    "#Identify number of males and females in records\n",
    "gen_count=df[\"Gender\"].value_counts()\n",
    "gen_count"
   ]
  },
  {
   "cell_type": "code",
   "execution_count": 17,
   "id": "28ee0be1",
   "metadata": {
    "execution": {
     "iopub.execute_input": "2024-12-04T13:00:19.345242Z",
     "iopub.status.busy": "2024-12-04T13:00:19.343727Z",
     "iopub.status.idle": "2024-12-04T13:00:19.597776Z",
     "shell.execute_reply": "2024-12-04T13:00:19.595833Z"
    },
    "papermill": {
     "duration": 0.272003,
     "end_time": "2024-12-04T13:00:19.600853",
     "exception": false,
     "start_time": "2024-12-04T13:00:19.328850",
     "status": "completed"
    },
    "tags": []
   },
   "outputs": [
    {
     "data": {
      "image/png": "[encoded data removed]",
      "text/plain": [
       "<Figure size 720x576 with 1 Axes>"
      ]
     },
     "metadata": {},
     "output_type": "display_data"
    }
   ],
   "source": [
    "#Plotting a pie chart for gender distribution\n",
    "\n",
    "plt.figure(figsize=(10,8))\n",
    "values=gen_count.values\n",
    "labels=gen_count.index\n",
    "plt.pie(values,labels=labels,autopct='%1.2f%%',colors=sns.color_palette('rocket_r'))\n",
    "plt.title(\"Gender Distribution\",fontsize='14')\n",
    "plt.legend([\"Male\",\"Female\"])\n",
    "plt.show()"
   ]
  },
  {
   "cell_type": "code",
   "execution_count": 18,
   "id": "a4a06044",
   "metadata": {
    "execution": {
     "iopub.execute_input": "2024-12-04T13:00:19.631283Z",
     "iopub.status.busy": "2024-12-04T13:00:19.630203Z",
     "iopub.status.idle": "2024-12-04T13:00:19.852084Z",
     "shell.execute_reply": "2024-12-04T13:00:19.850828Z"
    },
    "papermill": {
     "duration": 0.240064,
     "end_time": "2024-12-04T13:00:19.854885",
     "exception": false,
     "start_time": "2024-12-04T13:00:19.614821",
     "status": "completed"
    },
    "tags": []
   },
   "outputs": [
    {
     "data": {
      "text/plain": [
       "Text(0.5, 1.0, 'Gender Vs. Lung Cancer')"
      ]
     },
     "execution_count": 18,
     "metadata": {},
     "output_type": "execute_result"
    },
    {
     "data": {
      "image/png": "[encoded data removed]",
      "text/plain": [
       "<Figure size 720x576 with 1 Axes>"
      ]
     },
     "metadata": {
      "needs_background": "light"
     },
     "output_type": "display_data"
    }
   ],
   "source": [
    "#Plot Chart for Group Data Distribution\n",
    "plt.figure(figsize=(10,8))\n",
    "sns.countplot(data=df,y=\"Gender\",hue=\"Lung_Cancer\",palette=('rocket'))\n",
    "plt.title(\"Gender Vs. Lung Cancer\")"
   ]
  },
  {
   "cell_type": "markdown",
   "id": "d51f5510",
   "metadata": {
    "papermill": {
     "duration": 0.013893,
     "end_time": "2024-12-04T13:00:19.883143",
     "exception": false,
     "start_time": "2024-12-04T13:00:19.869250",
     "status": "completed"
    },
    "tags": []
   },
   "source": [
    "<div style=\"text-align:center;padding: 20px; border-radius: 15px; background-color: #fff8ff; color: #333333; border: 2px solid #444555; font-family: Arial, sans-serif;\">\n",
    "Lets Identify the Relations with  Age factor\n",
    "</div>"
   ]
  },
  {
   "cell_type": "code",
   "execution_count": 19,
   "id": "75fb2940",
   "metadata": {
    "execution": {
     "iopub.execute_input": "2024-12-04T13:00:19.915787Z",
     "iopub.status.busy": "2024-12-04T13:00:19.914975Z",
     "iopub.status.idle": "2024-12-04T13:00:19.946179Z",
     "shell.execute_reply": "2024-12-04T13:00:19.945042Z"
    },
    "papermill": {
     "duration": 0.050719,
     "end_time": "2024-12-04T13:00:19.948618",
     "exception": false,
     "start_time": "2024-12-04T13:00:19.897899",
     "status": "completed"
    },
    "tags": []
   },
   "outputs": [
    {
     "data": {
      "text/html": [
       "<div>\n",
       "<style scoped>\n",
       "    .dataframe tbody tr th:only-of-type {\n",
       "        vertical-align: middle;\n",
       "    }\n",
       "\n",
       "    .dataframe tbody tr th {\n",
       "        vertical-align: top;\n",
       "    }\n",
       "\n",
       "    .dataframe thead th {\n",
       "        text-align: right;\n",
       "    }\n",
       "</style>\n",
       "<table border=\"1\" class=\"dataframe\">\n",
       "  <thead>\n",
       "    <tr style=\"text-align: right;\">\n",
       "      <th></th>\n",
       "      <th>Gender</th>\n",
       "      <th>Lung_Cancer</th>\n",
       "      <th>Count</th>\n",
       "      <th>Minimum_Age</th>\n",
       "      <th>Maximum_Age</th>\n",
       "    </tr>\n",
       "  </thead>\n",
       "  <tbody>\n",
       "    <tr>\n",
       "      <th>0</th>\n",
       "      <td>Female</td>\n",
       "      <td>NO</td>\n",
       "      <td>22</td>\n",
       "      <td>21</td>\n",
       "      <td>87</td>\n",
       "    </tr>\n",
       "    <tr>\n",
       "      <th>1</th>\n",
       "      <td>Female</td>\n",
       "      <td>YES</td>\n",
       "      <td>125</td>\n",
       "      <td>38</td>\n",
       "      <td>81</td>\n",
       "    </tr>\n",
       "    <tr>\n",
       "      <th>2</th>\n",
       "      <td>Male</td>\n",
       "      <td>NO</td>\n",
       "      <td>17</td>\n",
       "      <td>46</td>\n",
       "      <td>69</td>\n",
       "    </tr>\n",
       "    <tr>\n",
       "      <th>3</th>\n",
       "      <td>Male</td>\n",
       "      <td>YES</td>\n",
       "      <td>145</td>\n",
       "      <td>39</td>\n",
       "      <td>79</td>\n",
       "    </tr>\n",
       "  </tbody>\n",
       "</table>\n",
       "</div>"
      ],
      "text/plain": [
       "   Gender Lung_Cancer  Count  Minimum_Age  Maximum_Age\n",
       "0  Female          NO     22           21           87\n",
       "1  Female         YES    125           38           81\n",
       "2    Male          NO     17           46           69\n",
       "3    Male         YES    145           39           79"
      ]
     },
     "execution_count": 19,
     "metadata": {},
     "output_type": "execute_result"
    }
   ],
   "source": [
    "#Data in group for genders\n",
    "df.groupby([\"Gender\",\"Lung_Cancer\"]).agg(Count=(\"Lung_Cancer\",\"count\"),Minimum_Age=(\"Age\",\"min\"),Maximum_Age=(\"Age\",\"max\")).reset_index()"
   ]
  },
  {
   "cell_type": "code",
   "execution_count": 20,
   "id": "c8887b5d",
   "metadata": {
    "execution": {
     "iopub.execute_input": "2024-12-04T13:00:19.979582Z",
     "iopub.status.busy": "2024-12-04T13:00:19.979150Z",
     "iopub.status.idle": "2024-12-04T13:00:19.986387Z",
     "shell.execute_reply": "2024-12-04T13:00:19.985021Z"
    },
    "papermill": {
     "duration": 0.02564,
     "end_time": "2024-12-04T13:00:19.989164",
     "exception": false,
     "start_time": "2024-12-04T13:00:19.963524",
     "status": "completed"
    },
    "tags": []
   },
   "outputs": [
    {
     "name": "stdout",
     "output_type": "stream",
     "text": [
      "Minimum age in Dataset is 21\n",
      "Maxium age in Dataset is 87\n"
     ]
    }
   ],
   "source": [
    "print(\"Minimum age in Dataset is\",df[\"Age\"].min()),\n",
    "print(\"Maxium age in Dataset is\",df[\"Age\"].max())"
   ]
  },
  {
   "cell_type": "code",
   "execution_count": 21,
   "id": "23c1a087",
   "metadata": {
    "execution": {
     "iopub.execute_input": "2024-12-04T13:00:20.020476Z",
     "iopub.status.busy": "2024-12-04T13:00:20.020034Z",
     "iopub.status.idle": "2024-12-04T13:00:20.039395Z",
     "shell.execute_reply": "2024-12-04T13:00:20.038197Z"
    },
    "papermill": {
     "duration": 0.038021,
     "end_time": "2024-12-04T13:00:20.042091",
     "exception": false,
     "start_time": "2024-12-04T13:00:20.004070",
     "status": "completed"
    },
    "tags": []
   },
   "outputs": [],
   "source": [
    "#Store agewise records for better access\n",
    "df.loc[(df['Age'] >= 0) & (df[\"Age\"] <= 9),\"n_age\"]=\"In 0's\"\n",
    "df.loc[(df['Age'] >= 10) & (df[\"Age\"] <= 19),\"n_age\"]=\"In 10's\"\n",
    "df.loc[(df['Age'] >= 20) & (df[\"Age\"] <= 29),\"n_age\"]=\"In 20's\"\n",
    "df.loc[(df['Age'] >= 30) & (df[\"Age\"] <= 39),\"n_age\"]=\"In 30's\"\n",
    "df.loc[(df['Age'] >= 40) & (df[\"Age\"] <= 49),\"n_age\"]=\"In 40's\"\n",
    "df.loc[(df['Age'] >= 50) & (df[\"Age\"] <= 59),\"n_age\"]=\"In 50's\"\n",
    "df.loc[(df['Age'] >= 60) & (df[\"Age\"] <= 69),\"n_age\"]=\"In 60's\"\n",
    "df.loc[(df['Age'] >= 70) & (df[\"Age\"] <= 79),\"n_age\"]=\"In 70's\"\n",
    "df.loc[(df['Age'] >= 80) & (df[\"Age\"] <= 89),\"n_age\"]=\"In 80's\""
   ]
  },
  {
   "cell_type": "code",
   "execution_count": 22,
   "id": "23d3941d",
   "metadata": {
    "execution": {
     "iopub.execute_input": "2024-12-04T13:00:20.073012Z",
     "iopub.status.busy": "2024-12-04T13:00:20.072220Z",
     "iopub.status.idle": "2024-12-04T13:00:20.341039Z",
     "shell.execute_reply": "2024-12-04T13:00:20.339866Z"
    },
    "papermill": {
     "duration": 0.286769,
     "end_time": "2024-12-04T13:00:20.343297",
     "exception": false,
     "start_time": "2024-12-04T13:00:20.056528",
     "status": "completed"
    },
    "tags": []
   },
   "outputs": [
    {
     "data": {
      "image/png": "[encoded data removed]",
      "text/plain": [
       "<Figure size 720x576 with 1 Axes>"
      ]
     },
     "metadata": {
      "needs_background": "light"
     },
     "output_type": "display_data"
    }
   ],
   "source": [
    "#Plot chart for age distribution\n",
    "plt.figure(figsize=(10,8))\n",
    "sns.countplot(y=\"n_age\",hue=\"Gender\",data=df,palette=('rocket'))\n",
    "\n",
    "#Details\n",
    "plt.title(\"Age Distribution\",fontsize='14')\n",
    "plt.xlabel(\"Age\")\n",
    "plt.ylabel(\"Frequency\")\n",
    "\n",
    "#Print\n",
    "plt.show()"
   ]
  },
  {
   "cell_type": "markdown",
   "id": "4f57dd61",
   "metadata": {
    "papermill": {
     "duration": 0.014616,
     "end_time": "2024-12-04T13:00:20.373271",
     "exception": false,
     "start_time": "2024-12-04T13:00:20.358655",
     "status": "completed"
    },
    "tags": []
   },
   "source": [
    "<div style=\"text-align:center;padding: 20px; border-radius: 15px; background-color: #fff8ff; color: #333333; border: 2px solid #444555; font-family: Arial, sans-serif;\">\n",
    "Lets Identify the Relations with  Alchohol Consumption\n",
    "</div>"
   ]
  },
  {
   "cell_type": "code",
   "execution_count": 23,
   "id": "4d4524af",
   "metadata": {
    "execution": {
     "iopub.execute_input": "2024-12-04T13:00:20.404830Z",
     "iopub.status.busy": "2024-12-04T13:00:20.404391Z",
     "iopub.status.idle": "2024-12-04T13:00:20.412909Z",
     "shell.execute_reply": "2024-12-04T13:00:20.411559Z"
    },
    "papermill": {
     "duration": 0.027346,
     "end_time": "2024-12-04T13:00:20.415410",
     "exception": false,
     "start_time": "2024-12-04T13:00:20.388064",
     "status": "completed"
    },
    "tags": []
   },
   "outputs": [
    {
     "data": {
      "text/plain": [
       "array([1, 0])"
      ]
     },
     "execution_count": 23,
     "metadata": {},
     "output_type": "execute_result"
    }
   ],
   "source": [
    "#identify all types of unique values present in column \"Alcohol Consuming\"\n",
    "df[\"Alcohol Consuming\"].unique()"
   ]
  },
  {
   "cell_type": "code",
   "execution_count": 24,
   "id": "e5226a80",
   "metadata": {
    "execution": {
     "iopub.execute_input": "2024-12-04T13:00:20.448465Z",
     "iopub.status.busy": "2024-12-04T13:00:20.447384Z",
     "iopub.status.idle": "2024-12-04T13:00:20.457008Z",
     "shell.execute_reply": "2024-12-04T13:00:20.455783Z"
    },
    "papermill": {
     "duration": 0.028192,
     "end_time": "2024-12-04T13:00:20.459277",
     "exception": false,
     "start_time": "2024-12-04T13:00:20.431085",
     "status": "completed"
    },
    "tags": []
   },
   "outputs": [
    {
     "data": {
      "text/plain": [
       "1    172\n",
       "0    137\n",
       "Name: Alcohol Consuming, dtype: int64"
      ]
     },
     "execution_count": 24,
     "metadata": {},
     "output_type": "execute_result"
    }
   ],
   "source": [
    "#Find the number of people who drink and those who don't\n",
    "alcohol_con=df[\"Alcohol Consuming\"].value_counts(sort=True)\n",
    "alcohol_con"
   ]
  },
  {
   "cell_type": "code",
   "execution_count": 25,
   "id": "418564e9",
   "metadata": {
    "execution": {
     "iopub.execute_input": "2024-12-04T13:00:20.491780Z",
     "iopub.status.busy": "2024-12-04T13:00:20.491063Z",
     "iopub.status.idle": "2024-12-04T13:00:20.630164Z",
     "shell.execute_reply": "2024-12-04T13:00:20.628551Z"
    },
    "papermill": {
     "duration": 0.160273,
     "end_time": "2024-12-04T13:00:20.635051",
     "exception": false,
     "start_time": "2024-12-04T13:00:20.474778",
     "status": "completed"
    },
    "tags": []
   },
   "outputs": [
    {
     "data": {
      "image/png": "[encoded data removed]",
      "text/plain": [
       "<Figure size 720x576 with 1 Axes>"
      ]
     },
     "metadata": {},
     "output_type": "display_data"
    }
   ],
   "source": [
    "#Plot Alochol Disyrubution using Pie Chart\n",
    "labels=alcohol_con.index\n",
    "values=alcohol_con.values\n",
    "plt.figure(figsize=(10,8))\n",
    "plt.pie(values,labels=labels,autopct='%1.2f%%',colors=sns.color_palette('rocket_r'))\n",
    "plt.title(\"Alcohol Distribution\",fontsize='14')\n",
    "plt.legend([\"Alcoholic\",\"Not Alcoholic\"]) #To print ref box\n",
    "plt.show()"
   ]
  },
  {
   "cell_type": "code",
   "execution_count": 26,
   "id": "cee35569",
   "metadata": {
    "execution": {
     "iopub.execute_input": "2024-12-04T13:00:20.713400Z",
     "iopub.status.busy": "2024-12-04T13:00:20.712989Z",
     "iopub.status.idle": "2024-12-04T13:00:20.732230Z",
     "shell.execute_reply": "2024-12-04T13:00:20.730946Z"
    },
    "papermill": {
     "duration": 0.054178,
     "end_time": "2024-12-04T13:00:20.735187",
     "exception": false,
     "start_time": "2024-12-04T13:00:20.681009",
     "status": "completed"
    },
    "tags": []
   },
   "outputs": [
    {
     "data": {
      "text/html": [
       "<div>\n",
       "<style scoped>\n",
       "    .dataframe tbody tr th:only-of-type {\n",
       "        vertical-align: middle;\n",
       "    }\n",
       "\n",
       "    .dataframe tbody tr th {\n",
       "        vertical-align: top;\n",
       "    }\n",
       "\n",
       "    .dataframe thead th {\n",
       "        text-align: right;\n",
       "    }\n",
       "</style>\n",
       "<table border=\"1\" class=\"dataframe\">\n",
       "  <thead>\n",
       "    <tr style=\"text-align: right;\">\n",
       "      <th></th>\n",
       "      <th>Alcohol Consuming</th>\n",
       "      <th>Lung_Cancer</th>\n",
       "      <th>Total</th>\n",
       "    </tr>\n",
       "  </thead>\n",
       "  <tbody>\n",
       "    <tr>\n",
       "      <th>0</th>\n",
       "      <td>0</td>\n",
       "      <td>NO</td>\n",
       "      <td>32</td>\n",
       "    </tr>\n",
       "    <tr>\n",
       "      <th>1</th>\n",
       "      <td>0</td>\n",
       "      <td>YES</td>\n",
       "      <td>105</td>\n",
       "    </tr>\n",
       "    <tr>\n",
       "      <th>2</th>\n",
       "      <td>1</td>\n",
       "      <td>NO</td>\n",
       "      <td>7</td>\n",
       "    </tr>\n",
       "    <tr>\n",
       "      <th>3</th>\n",
       "      <td>1</td>\n",
       "      <td>YES</td>\n",
       "      <td>165</td>\n",
       "    </tr>\n",
       "  </tbody>\n",
       "</table>\n",
       "</div>"
      ],
      "text/plain": [
       "   Alcohol Consuming Lung_Cancer  Total\n",
       "0                  0          NO     32\n",
       "1                  0         YES    105\n",
       "2                  1          NO      7\n",
       "3                  1         YES    165"
      ]
     },
     "execution_count": 26,
     "metadata": {},
     "output_type": "execute_result"
    }
   ],
   "source": [
    "#Build Table to see the impact of alcohol Consumption on Lung Cancer\n",
    "alco_table=df.groupby([\"Alcohol Consuming\",\"Lung_Cancer\"]).agg(Total=(\"Lung_Cancer\",\"count\")).reset_index()\n",
    "alco_table"
   ]
  },
  {
   "cell_type": "code",
   "execution_count": 27,
   "id": "5ee5d593",
   "metadata": {
    "execution": {
     "iopub.execute_input": "2024-12-04T13:00:20.768614Z",
     "iopub.status.busy": "2024-12-04T13:00:20.767625Z",
     "iopub.status.idle": "2024-12-04T13:00:21.009240Z",
     "shell.execute_reply": "2024-12-04T13:00:21.007910Z"
    },
    "papermill": {
     "duration": 0.261289,
     "end_time": "2024-12-04T13:00:21.012149",
     "exception": false,
     "start_time": "2024-12-04T13:00:20.750860",
     "status": "completed"
    },
    "tags": []
   },
   "outputs": [
    {
     "data": {
      "image/png": "[encoded data removed]",
      "text/plain": [
       "<Figure size 720x576 with 1 Axes>"
      ]
     },
     "metadata": {
      "needs_background": "light"
     },
     "output_type": "display_data"
    }
   ],
   "source": [
    "#Plot chart for age distribution\n",
    "plt.figure(figsize=(10,8))\n",
    "sns.barplot(x='Alcohol Consuming',y=\"Total\",hue=\"Lung_Cancer\",data=alco_table,palette=('rocket'))\n",
    "\n",
    "#Details\n",
    "plt.title(\"Impact of Alcohol Consumption on Lung Cancer\", fontsize=14)\n",
    "plt.xlabel(\"Alcohol Consumption\", fontsize=14)\n",
    "plt.ylabel(\"Total Cases\", fontsize=12)\n",
    "plt.legend(title=\"Lung Cancer\", fontsize=10)\n",
    "\n",
    "#Print\n",
    "plt.show()"
   ]
  },
  {
   "cell_type": "markdown",
   "id": "4617f7e3",
   "metadata": {
    "papermill": {
     "duration": 0.015508,
     "end_time": "2024-12-04T13:00:21.044054",
     "exception": false,
     "start_time": "2024-12-04T13:00:21.028546",
     "status": "completed"
    },
    "tags": []
   },
   "source": [
    "<div style=\"text-align:center;padding: 20px; border-radius: 15px; background-color: #fff8ff; color: #333333; border: 2px solid #444555; font-family: Arial, sans-serif;\">\n",
    "From the above chart, we can infer that alcohol consumption has a minor connection with lung cancer, as the distribution between those who consume alcohol and those who don't is quite similar. While there may be a slight impact, it is likely that alcohol consumption, when combined with other factors, could contribute more significantly to the risk of lung cancer.\n",
    "</div>"
   ]
  },
  {
   "cell_type": "code",
   "execution_count": 28,
   "id": "7e1167ef",
   "metadata": {
    "execution": {
     "iopub.execute_input": "2024-12-04T13:00:21.078082Z",
     "iopub.status.busy": "2024-12-04T13:00:21.077672Z",
     "iopub.status.idle": "2024-12-04T13:00:21.099528Z",
     "shell.execute_reply": "2024-12-04T13:00:21.098431Z"
    },
    "papermill": {
     "duration": 0.041374,
     "end_time": "2024-12-04T13:00:21.101927",
     "exception": false,
     "start_time": "2024-12-04T13:00:21.060553",
     "status": "completed"
    },
    "tags": []
   },
   "outputs": [
    {
     "data": {
      "text/html": [
       "<div>\n",
       "<style scoped>\n",
       "    .dataframe tbody tr th:only-of-type {\n",
       "        vertical-align: middle;\n",
       "    }\n",
       "\n",
       "    .dataframe tbody tr th {\n",
       "        vertical-align: top;\n",
       "    }\n",
       "\n",
       "    .dataframe thead th {\n",
       "        text-align: right;\n",
       "    }\n",
       "</style>\n",
       "<table border=\"1\" class=\"dataframe\">\n",
       "  <thead>\n",
       "    <tr style=\"text-align: right;\">\n",
       "      <th></th>\n",
       "      <th>n_age</th>\n",
       "      <th>Lung_Cancer</th>\n",
       "      <th>Total</th>\n",
       "    </tr>\n",
       "  </thead>\n",
       "  <tbody>\n",
       "    <tr>\n",
       "      <th>0</th>\n",
       "      <td>In 20's</td>\n",
       "      <td>NO</td>\n",
       "      <td>1</td>\n",
       "    </tr>\n",
       "    <tr>\n",
       "      <th>1</th>\n",
       "      <td>In 30's</td>\n",
       "      <td>YES</td>\n",
       "      <td>2</td>\n",
       "    </tr>\n",
       "    <tr>\n",
       "      <th>2</th>\n",
       "      <td>In 40's</td>\n",
       "      <td>NO</td>\n",
       "      <td>2</td>\n",
       "    </tr>\n",
       "    <tr>\n",
       "      <th>3</th>\n",
       "      <td>In 40's</td>\n",
       "      <td>YES</td>\n",
       "      <td>10</td>\n",
       "    </tr>\n",
       "    <tr>\n",
       "      <th>4</th>\n",
       "      <td>In 50's</td>\n",
       "      <td>NO</td>\n",
       "      <td>13</td>\n",
       "    </tr>\n",
       "    <tr>\n",
       "      <th>5</th>\n",
       "      <td>In 50's</td>\n",
       "      <td>YES</td>\n",
       "      <td>78</td>\n",
       "    </tr>\n",
       "    <tr>\n",
       "      <th>6</th>\n",
       "      <td>In 60's</td>\n",
       "      <td>NO</td>\n",
       "      <td>20</td>\n",
       "    </tr>\n",
       "    <tr>\n",
       "      <th>7</th>\n",
       "      <td>In 60's</td>\n",
       "      <td>YES</td>\n",
       "      <td>114</td>\n",
       "    </tr>\n",
       "    <tr>\n",
       "      <th>8</th>\n",
       "      <td>In 70's</td>\n",
       "      <td>NO</td>\n",
       "      <td>2</td>\n",
       "    </tr>\n",
       "    <tr>\n",
       "      <th>9</th>\n",
       "      <td>In 70's</td>\n",
       "      <td>YES</td>\n",
       "      <td>64</td>\n",
       "    </tr>\n",
       "    <tr>\n",
       "      <th>10</th>\n",
       "      <td>In 80's</td>\n",
       "      <td>NO</td>\n",
       "      <td>1</td>\n",
       "    </tr>\n",
       "    <tr>\n",
       "      <th>11</th>\n",
       "      <td>In 80's</td>\n",
       "      <td>YES</td>\n",
       "      <td>2</td>\n",
       "    </tr>\n",
       "  </tbody>\n",
       "</table>\n",
       "</div>"
      ],
      "text/plain": [
       "      n_age Lung_Cancer  Total\n",
       "0   In 20's          NO      1\n",
       "1   In 30's         YES      2\n",
       "2   In 40's          NO      2\n",
       "3   In 40's         YES     10\n",
       "4   In 50's          NO     13\n",
       "5   In 50's         YES     78\n",
       "6   In 60's          NO     20\n",
       "7   In 60's         YES    114\n",
       "8   In 70's          NO      2\n",
       "9   In 70's         YES     64\n",
       "10  In 80's          NO      1\n",
       "11  In 80's         YES      2"
      ]
     },
     "execution_count": 28,
     "metadata": {},
     "output_type": "execute_result"
    }
   ],
   "source": [
    "#Build table to display lung cancer distribution - agewise\n",
    "df.groupby([\"n_age\",\"Lung_Cancer\"]).agg(Total=(\"Lung_Cancer\",\"count\")).reset_index()"
   ]
  },
  {
   "cell_type": "markdown",
   "id": "35c3ba7d",
   "metadata": {
    "papermill": {
     "duration": 0.016564,
     "end_time": "2024-12-04T13:00:21.134701",
     "exception": false,
     "start_time": "2024-12-04T13:00:21.118137",
     "status": "completed"
    },
    "tags": []
   },
   "source": [
    "## 4.Machine learning"
   ]
  },
  {
   "cell_type": "markdown",
   "id": "9c4a1488",
   "metadata": {
    "papermill": {
     "duration": 0.015824,
     "end_time": "2024-12-04T13:00:21.166633",
     "exception": false,
     "start_time": "2024-12-04T13:00:21.150809",
     "status": "completed"
    },
    "tags": []
   },
   "source": [
    "### 1. Import Libraries"
   ]
  },
  {
   "cell_type": "code",
   "execution_count": 29,
   "id": "429e6de7",
   "metadata": {
    "execution": {
     "iopub.execute_input": "2024-12-04T13:00:21.200678Z",
     "iopub.status.busy": "2024-12-04T13:00:21.200227Z",
     "iopub.status.idle": "2024-12-04T13:00:21.505709Z",
     "shell.execute_reply": "2024-12-04T13:00:21.504477Z"
    },
    "papermill": {
     "duration": 0.325568,
     "end_time": "2024-12-04T13:00:21.508351",
     "exception": false,
     "start_time": "2024-12-04T13:00:21.182783",
     "status": "completed"
    },
    "tags": []
   },
   "outputs": [],
   "source": [
    "#Machine Learining using Logistic Regression\n",
    "\n",
    "from sklearn.model_selection import train_test_split\n",
    "from sklearn.linear_model import LogisticRegression\n",
    "from sklearn.metrics import accuracy_score,precision_score,recall_score\n",
    "from sklearn.metrics import mean_absolute_error, mean_squared_error"
   ]
  },
  {
   "cell_type": "markdown",
   "id": "0e06b028",
   "metadata": {
    "papermill": {
     "duration": 0.015771,
     "end_time": "2024-12-04T13:00:21.540432",
     "exception": false,
     "start_time": "2024-12-04T13:00:21.524661",
     "status": "completed"
    },
    "tags": []
   },
   "source": [
    "### 2. Data Preprocessing"
   ]
  },
  {
   "cell_type": "code",
   "execution_count": 30,
   "id": "967ee75d",
   "metadata": {
    "execution": {
     "iopub.execute_input": "2024-12-04T13:00:21.575293Z",
     "iopub.status.busy": "2024-12-04T13:00:21.574910Z",
     "iopub.status.idle": "2024-12-04T13:00:21.584071Z",
     "shell.execute_reply": "2024-12-04T13:00:21.582765Z"
    },
    "papermill": {
     "duration": 0.029433,
     "end_time": "2024-12-04T13:00:21.586609",
     "exception": false,
     "start_time": "2024-12-04T13:00:21.557176",
     "status": "completed"
    },
    "tags": []
   },
   "outputs": [],
   "source": [
    "#Data should be in a binary for efficient performance. \n",
    "#We replace Genders and Lung Cancer coulmn values with 1 and 0\n",
    "#Other values were replaced earlier.\n",
    "\n",
    "df[\"Gender\"]=df[\"Gender\"].replace([\"Male\",\"Female\"],[1,0])\n",
    "df[\"Lung_Cancer\"]=df[\"Lung_Cancer\"].replace([\"YES\",\"NO\"],[1,0])"
   ]
  },
  {
   "cell_type": "markdown",
   "id": "e935c593",
   "metadata": {
    "papermill": {
     "duration": 0.016057,
     "end_time": "2024-12-04T13:00:21.618905",
     "exception": false,
     "start_time": "2024-12-04T13:00:21.602848",
     "status": "completed"
    },
    "tags": []
   },
   "source": [
    "### 3. Data splitting for better data validation and output"
   ]
  },
  {
   "cell_type": "code",
   "execution_count": 31,
   "id": "2d46105d",
   "metadata": {
    "execution": {
     "iopub.execute_input": "2024-12-04T13:00:21.653531Z",
     "iopub.status.busy": "2024-12-04T13:00:21.653135Z",
     "iopub.status.idle": "2024-12-04T13:00:21.660007Z",
     "shell.execute_reply": "2024-12-04T13:00:21.659011Z"
    },
    "papermill": {
     "duration": 0.02727,
     "end_time": "2024-12-04T13:00:21.662292",
     "exception": false,
     "start_time": "2024-12-04T13:00:21.635022",
     "status": "completed"
    },
    "tags": []
   },
   "outputs": [],
   "source": [
    "X = df.iloc[:, :-2].values #Select all the Rows Except Last Two Columns\n",
    "y = df.iloc[:, -2].values #Select all the Rows of Last Column"
   ]
  },
  {
   "cell_type": "code",
   "execution_count": 32,
   "id": "8ee5a2e0",
   "metadata": {
    "execution": {
     "iopub.execute_input": "2024-12-04T13:00:21.697386Z",
     "iopub.status.busy": "2024-12-04T13:00:21.696446Z",
     "iopub.status.idle": "2024-12-04T13:00:21.703418Z",
     "shell.execute_reply": "2024-12-04T13:00:21.702158Z"
    },
    "papermill": {
     "duration": 0.027401,
     "end_time": "2024-12-04T13:00:21.706012",
     "exception": false,
     "start_time": "2024-12-04T13:00:21.678611",
     "status": "completed"
    },
    "tags": []
   },
   "outputs": [],
   "source": [
    "#Data Split using test_train_split fuction\n",
    "X_train,X_test,y_train,y_test=train_test_split(X,y,test_size=0.2,random_state=42)"
   ]
  },
  {
   "cell_type": "code",
   "execution_count": 33,
   "id": "816e09be",
   "metadata": {
    "execution": {
     "iopub.execute_input": "2024-12-04T13:00:21.740069Z",
     "iopub.status.busy": "2024-12-04T13:00:21.739684Z",
     "iopub.status.idle": "2024-12-04T13:00:21.748270Z",
     "shell.execute_reply": "2024-12-04T13:00:21.747097Z"
    },
    "papermill": {
     "duration": 0.028396,
     "end_time": "2024-12-04T13:00:21.750620",
     "exception": false,
     "start_time": "2024-12-04T13:00:21.722224",
     "status": "completed"
    },
    "tags": []
   },
   "outputs": [
    {
     "data": {
      "text/plain": [
       "array([1, 1, 1, 1, 1, 1, 1, 1, 1, 1, 1, 1, 1, 1, 1, 1, 1, 1, 1, 1, 1, 1,\n",
       "       1, 1, 1, 1, 1, 1, 1, 1, 1, 0, 1, 1, 1, 1, 1, 1, 1, 1, 1, 1, 1, 1,\n",
       "       1, 1, 1, 1, 0, 1, 1, 1, 1, 1, 1, 1, 1, 1, 1, 1, 1, 1])"
      ]
     },
     "execution_count": 33,
     "metadata": {},
     "output_type": "execute_result"
    }
   ],
   "source": [
    "#Print the splitted output values\n",
    "y_test"
   ]
  },
  {
   "cell_type": "code",
   "execution_count": 34,
   "id": "d59cccc1",
   "metadata": {
    "execution": {
     "iopub.execute_input": "2024-12-04T13:00:21.785559Z",
     "iopub.status.busy": "2024-12-04T13:00:21.785135Z",
     "iopub.status.idle": "2024-12-04T13:00:21.797449Z",
     "shell.execute_reply": "2024-12-04T13:00:21.796298Z"
    },
    "papermill": {
     "duration": 0.032481,
     "end_time": "2024-12-04T13:00:21.799907",
     "exception": false,
     "start_time": "2024-12-04T13:00:21.767426",
     "status": "completed"
    },
    "tags": []
   },
   "outputs": [
    {
     "data": {
      "text/plain": [
       "LogisticRegression(random_state=42, solver='liblinear')"
      ]
     },
     "execution_count": 34,
     "metadata": {},
     "output_type": "execute_result"
    }
   ],
   "source": [
    "#Call function for model training\n",
    "lr=LogisticRegression(penalty=\"l2\",C=1.0,solver=\"liblinear\",random_state=42)\n",
    "lr.fit(X_train,y_train)"
   ]
  },
  {
   "cell_type": "code",
   "execution_count": 35,
   "id": "7fea4a4f",
   "metadata": {
    "execution": {
     "iopub.execute_input": "2024-12-04T13:00:21.836526Z",
     "iopub.status.busy": "2024-12-04T13:00:21.835444Z",
     "iopub.status.idle": "2024-12-04T13:00:21.842981Z",
     "shell.execute_reply": "2024-12-04T13:00:21.841777Z"
    },
    "papermill": {
     "duration": 0.028924,
     "end_time": "2024-12-04T13:00:21.845133",
     "exception": false,
     "start_time": "2024-12-04T13:00:21.816209",
     "status": "completed"
    },
    "tags": []
   },
   "outputs": [
    {
     "data": {
      "text/plain": [
       "array([1, 1, 1, 1, 1, 1, 1, 1, 1, 1, 1, 1, 1, 1, 1, 1, 1, 1, 1, 1, 0, 1,\n",
       "       1, 1, 1, 1, 1, 1, 1, 1, 1, 1, 1, 1, 1, 1, 1, 1, 1, 1, 1, 1, 1, 1,\n",
       "       1, 1, 1, 1, 0, 1, 1, 1, 1, 1, 1, 1, 1, 1, 1, 1, 1, 1])"
      ]
     },
     "execution_count": 35,
     "metadata": {},
     "output_type": "execute_result"
    }
   ],
   "source": [
    "#Predict the values\n",
    "predicted_value=lr.predict(X_test)\n",
    "predicted_value"
   ]
  },
  {
   "cell_type": "markdown",
   "id": "5a178065",
   "metadata": {
    "papermill": {
     "duration": 0.016457,
     "end_time": "2024-12-04T13:00:21.878032",
     "exception": false,
     "start_time": "2024-12-04T13:00:21.861575",
     "status": "completed"
    },
    "tags": []
   },
   "source": [
    "### 4.Model Evalution"
   ]
  },
  {
   "cell_type": "code",
   "execution_count": 36,
   "id": "3d9c7cd1",
   "metadata": {
    "execution": {
     "iopub.execute_input": "2024-12-04T13:00:21.913995Z",
     "iopub.status.busy": "2024-12-04T13:00:21.913617Z",
     "iopub.status.idle": "2024-12-04T13:00:21.924869Z",
     "shell.execute_reply": "2024-12-04T13:00:21.923562Z"
    },
    "papermill": {
     "duration": 0.031851,
     "end_time": "2024-12-04T13:00:21.927322",
     "exception": false,
     "start_time": "2024-12-04T13:00:21.895471",
     "status": "completed"
    },
    "tags": []
   },
   "outputs": [
    {
     "name": "stdout",
     "output_type": "stream",
     "text": [
      "Performance Metrics for Logistic Regression\n",
      "\n",
      "Accuracy score:  0.967741935483871\n",
      "Precision score:  0.9833333333333333\n",
      "Recall score:  0.9833333333333333\n",
      "Mean Absolute Error:  0.03225806451612903\n",
      "Mean Squared Error:  0.03225806451612903\n"
     ]
    }
   ],
   "source": [
    "print(\"Performance Metrics for Logistic Regression\\n\")\n",
    "print(\"Accuracy score: \",accuracy_score(y_test,predicted_value))\n",
    "print(\"Precision score: \",precision_score(y_test,predicted_value))\n",
    "print(\"Recall score: \",recall_score(y_test,predicted_value))\n",
    "print(\"Mean Absolute Error: \",mean_absolute_error(y_test,predicted_value))\n",
    "print(\"Mean Squared Error: \",mean_squared_error(y_test,predicted_value))"
   ]
  },
  {
   "cell_type": "markdown",
   "id": "2a52466e",
   "metadata": {
    "papermill": {
     "duration": 0.016427,
     "end_time": "2024-12-04T13:00:21.960203",
     "exception": false,
     "start_time": "2024-12-04T13:00:21.943776",
     "status": "completed"
    },
    "tags": []
   },
   "source": [
    "<div style=\"text-align:center;padding: 20px; border-radius: 15px; background-color: #fff8ff; color: #333333; border: 2px solid #444555; font-family: Arial, sans-serif;\">\n",
    "Lets check outputs using the Random Forrest Algorithm Now\n",
    "</div>"
   ]
  },
  {
   "cell_type": "code",
   "execution_count": 37,
   "id": "66f5ec3c",
   "metadata": {
    "execution": {
     "iopub.execute_input": "2024-12-04T13:00:21.995287Z",
     "iopub.status.busy": "2024-12-04T13:00:21.994900Z",
     "iopub.status.idle": "2024-12-04T13:00:22.146872Z",
     "shell.execute_reply": "2024-12-04T13:00:22.145737Z"
    },
    "papermill": {
     "duration": 0.172946,
     "end_time": "2024-12-04T13:00:22.149766",
     "exception": false,
     "start_time": "2024-12-04T13:00:21.976820",
     "status": "completed"
    },
    "tags": []
   },
   "outputs": [],
   "source": [
    "#Import Library\n",
    "from sklearn.ensemble import RandomForestRegressor"
   ]
  },
  {
   "cell_type": "code",
   "execution_count": 38,
   "id": "ba75e422",
   "metadata": {
    "execution": {
     "iopub.execute_input": "2024-12-04T13:00:22.186803Z",
     "iopub.status.busy": "2024-12-04T13:00:22.185918Z",
     "iopub.status.idle": "2024-12-04T13:00:22.194002Z",
     "shell.execute_reply": "2024-12-04T13:00:22.192779Z"
    },
    "papermill": {
     "duration": 0.02906,
     "end_time": "2024-12-04T13:00:22.196640",
     "exception": false,
     "start_time": "2024-12-04T13:00:22.167580",
     "status": "completed"
    },
    "tags": []
   },
   "outputs": [],
   "source": [
    "#Include all columns except prediction column and n_age which was made for better insights.\n",
    "rf_X=df.drop([\"Lung_Cancer\",\"n_age\"],axis=1)\n",
    "\n",
    "#Preiction Column\n",
    "rf_y=df[\"Lung_Cancer\"]"
   ]
  },
  {
   "cell_type": "code",
   "execution_count": 39,
   "id": "5f968e33",
   "metadata": {
    "execution": {
     "iopub.execute_input": "2024-12-04T13:00:22.231665Z",
     "iopub.status.busy": "2024-12-04T13:00:22.231143Z",
     "iopub.status.idle": "2024-12-04T13:00:22.239254Z",
     "shell.execute_reply": "2024-12-04T13:00:22.238266Z"
    },
    "papermill": {
     "duration": 0.027979,
     "end_time": "2024-12-04T13:00:22.241636",
     "exception": false,
     "start_time": "2024-12-04T13:00:22.213657",
     "status": "completed"
    },
    "tags": []
   },
   "outputs": [],
   "source": [
    "#Data Split using test_train_split fuction\n",
    "rf_xtrain,rf_xtest,rf_ytrain,rf_ytest=train_test_split(rf_X,rf_y,test_size=0.2,random_state=42)"
   ]
  },
  {
   "cell_type": "code",
   "execution_count": 40,
   "id": "dcca5f2c",
   "metadata": {
    "execution": {
     "iopub.execute_input": "2024-12-04T13:00:22.277986Z",
     "iopub.status.busy": "2024-12-04T13:00:22.277465Z",
     "iopub.status.idle": "2024-12-04T13:00:22.286432Z",
     "shell.execute_reply": "2024-12-04T13:00:22.285241Z"
    },
    "papermill": {
     "duration": 0.030229,
     "end_time": "2024-12-04T13:00:22.288871",
     "exception": false,
     "start_time": "2024-12-04T13:00:22.258642",
     "status": "completed"
    },
    "tags": []
   },
   "outputs": [
    {
     "data": {
      "text/plain": [
       "288    1\n",
       "9      1\n",
       "57     1\n",
       "60     1\n",
       "25     1\n",
       "      ..\n",
       "198    1\n",
       "195    1\n",
       "210    1\n",
       "224    1\n",
       "158    1\n",
       "Name: Lung_Cancer, Length: 62, dtype: int64"
      ]
     },
     "execution_count": 40,
     "metadata": {},
     "output_type": "execute_result"
    }
   ],
   "source": [
    "#Print the splitted output values\n",
    "rf_ytest"
   ]
  },
  {
   "cell_type": "code",
   "execution_count": 41,
   "id": "d4792662",
   "metadata": {
    "execution": {
     "iopub.execute_input": "2024-12-04T13:00:22.323972Z",
     "iopub.status.busy": "2024-12-04T13:00:22.323568Z",
     "iopub.status.idle": "2024-12-04T13:00:22.482548Z",
     "shell.execute_reply": "2024-12-04T13:00:22.481377Z"
    },
    "papermill": {
     "duration": 0.179338,
     "end_time": "2024-12-04T13:00:22.485191",
     "exception": false,
     "start_time": "2024-12-04T13:00:22.305853",
     "status": "completed"
    },
    "tags": []
   },
   "outputs": [
    {
     "data": {
      "text/plain": [
       "array([0.97      , 0.99      , 1.        , 1.        , 1.        ,\n",
       "       0.91      , 0.97      , 1.        , 0.91      , 0.89333333,\n",
       "       0.97933333, 1.        , 0.99      , 0.90933333, 1.        ,\n",
       "       0.82      , 1.        , 0.67      , 0.97      , 0.87      ,\n",
       "       0.59      , 1.        , 0.76      , 0.93666667, 1.        ,\n",
       "       0.89      , 0.84      , 0.71      , 0.99      , 1.        ,\n",
       "       0.91      , 0.84      , 1.        , 0.96      , 1.        ,\n",
       "       1.        , 0.99      , 0.98      , 0.78      , 1.        ,\n",
       "       0.95      , 1.        , 1.        , 0.9       , 1.        ,\n",
       "       0.935     , 0.97      , 0.96      , 0.12      , 1.        ,\n",
       "       0.9       , 0.92      , 1.        , 0.99      , 1.        ,\n",
       "       0.96      , 1.        , 0.83      , 0.95666667, 0.86933333,\n",
       "       1.        , 1.        ])"
      ]
     },
     "execution_count": 41,
     "metadata": {},
     "output_type": "execute_result"
    }
   ],
   "source": [
    "#Implement Model\n",
    "forest_model = RandomForestRegressor(random_state=42)\n",
    "forest_model.fit(rf_xtrain, rf_ytrain)\n",
    "forest_predict = forest_model.predict(rf_xtest)\n",
    "forest_predict"
   ]
  },
  {
   "cell_type": "markdown",
   "id": "2150b597",
   "metadata": {
    "papermill": {
     "duration": 0.017602,
     "end_time": "2024-12-04T13:00:22.520373",
     "exception": false,
     "start_time": "2024-12-04T13:00:22.502771",
     "status": "completed"
    },
    "tags": []
   },
   "source": [
    "### Model Evaluation"
   ]
  },
  {
   "cell_type": "code",
   "execution_count": 42,
   "id": "755c6ba7",
   "metadata": {
    "execution": {
     "iopub.execute_input": "2024-12-04T13:00:22.557250Z",
     "iopub.status.busy": "2024-12-04T13:00:22.556861Z",
     "iopub.status.idle": "2024-12-04T13:00:22.562611Z",
     "shell.execute_reply": "2024-12-04T13:00:22.561403Z"
    },
    "papermill": {
     "duration": 0.026038,
     "end_time": "2024-12-04T13:00:22.564924",
     "exception": false,
     "start_time": "2024-12-04T13:00:22.538886",
     "status": "completed"
    },
    "tags": []
   },
   "outputs": [],
   "source": [
    "forest_predict_binary = (forest_predict >= 0.5).astype(int)"
   ]
  },
  {
   "cell_type": "code",
   "execution_count": 43,
   "id": "ef073ae2",
   "metadata": {
    "execution": {
     "iopub.execute_input": "2024-12-04T13:00:22.600478Z",
     "iopub.status.busy": "2024-12-04T13:00:22.599307Z",
     "iopub.status.idle": "2024-12-04T13:00:22.611293Z",
     "shell.execute_reply": "2024-12-04T13:00:22.610006Z"
    },
    "papermill": {
     "duration": 0.032201,
     "end_time": "2024-12-04T13:00:22.613657",
     "exception": false,
     "start_time": "2024-12-04T13:00:22.581456",
     "status": "completed"
    },
    "tags": []
   },
   "outputs": [
    {
     "name": "stdout",
     "output_type": "stream",
     "text": [
      "Performance Metrics for Random Forest\n",
      "\n",
      "Accuracy score:  0.9838709677419355\n",
      "Precision score:  0.9836065573770492\n",
      "Recall score:  1.0\n",
      "Mean Absolute Error:  0.016129032258064516\n",
      "Mean Squared Error:  0.016129032258064516\n"
     ]
    }
   ],
   "source": [
    "print(\"Performance Metrics for Random Forest\\n\")\n",
    "\n",
    "print(\"Accuracy score: \",accuracy_score(rf_ytest,forest_predict_binary))\n",
    "print(\"Precision score: \",precision_score(rf_ytest,forest_predict_binary))\n",
    "print(\"Recall score: \",recall_score(rf_ytest,forest_predict_binary))\n",
    "print(\"Mean Absolute Error: \",mean_absolute_error(rf_ytest,forest_predict_binary))\n",
    "print(\"Mean Squared Error: \",mean_squared_error(rf_ytest,forest_predict_binary))"
   ]
  },
  {
   "cell_type": "markdown",
   "id": "1979b4ad",
   "metadata": {
    "papermill": {
     "duration": 0.016275,
     "end_time": "2024-12-04T13:00:22.646341",
     "exception": false,
     "start_time": "2024-12-04T13:00:22.630066",
     "status": "completed"
    },
    "tags": []
   },
   "source": [
    "## 5.Performance Comparison: Random Forest vs. Logistic Regression"
   ]
  },
  {
   "cell_type": "markdown",
   "id": "7620e203",
   "metadata": {
    "papermill": {
     "duration": 0.016385,
     "end_time": "2024-12-04T13:00:22.679348",
     "exception": false,
     "start_time": "2024-12-04T13:00:22.662963",
     "status": "completed"
    },
    "tags": []
   },
   "source": [
    "<div style=\"padding: 20px; border-radius: 15px; background-color: #fff8ff; color: #333333; border: 2px solid #444555; font-family: Arial, sans-serif;\">\n",
    "\n",
    "1. Accuracy Score<br>\n",
    "Random Forest: 98.39%<br>\n",
    "Logistic Regression: 96.77%<br>\n",
    "Observation: Random Forest outperforms Logistic Regression in terms of overall accuracy, meaning it is better at correctly classifying both positive and negative instances.\n",
    "<br><br>2. Precision Score<br>\n",
    "Random Forest: 98.36%<br>\n",
    "Logistic Regression: 98.33%<br>\n",
    "Observation: Both models perform very similarly in precision, meaning when they predict a positive case, they are almost equally likely to be correct.\n",
    "<br><br>3. Recall Score<br>\n",
    "Random Forest: 100%<br>\n",
    "Logistic Regression: 98.33%<br>\n",
    "Observation: Random Forest has perfect recall, meaning it does not miss any positive cases, while Logistic Regression misses a few.\n",
    "<br><br>4. Mean Absolute Error (MAE)<br>\n",
    "Random Forest: 1.61%<br>\n",
    "Logistic Regression: 3.23%<br>\n",
    "Observation: Random Forest has a lower MAE, meaning its predictions are generally closer to the true values.\n",
    "<br><br>5. Mean Squared Error (MSE)<br>\n",
    "Random Forest: 1.61%<br>\n",
    "Logistic Regression: 3.23%<br>\n",
    "Observation: Random Forest also performs better with a lower MSE, suggesting that its predictions are more accurate overall and have smaller errors.\n",
    "\n",
    "</div>"
   ]
  },
  {
   "cell_type": "markdown",
   "id": "6fe72dd1",
   "metadata": {
    "papermill": {
     "duration": 0.016282,
     "end_time": "2024-12-04T13:00:22.712370",
     "exception": false,
     "start_time": "2024-12-04T13:00:22.696088",
     "status": "completed"
    },
    "tags": []
   },
   "source": [
    "## 6. Conclusion\n",
    "\n"
   ]
  },
  {
   "cell_type": "markdown",
   "id": "9a0c89e3",
   "metadata": {
    "papermill": {
     "duration": 0.016439,
     "end_time": "2024-12-04T13:00:22.745350",
     "exception": false,
     "start_time": "2024-12-04T13:00:22.728911",
     "status": "completed"
    },
    "tags": []
   },
   "source": [
    "<div style=\"padding: 20px; border-radius: 15px; background-color: #fff8ff; color: #333333; border: 2px solid #444555; font-family: Arial, sans-serif;\">\n",
    "\n",
    "Random Forest outperforms Logistic Regression across all key metrics (accuracy, recall, MAE, and MSE), making it the better choice for this dataset.\n",
    "\n",
    "Perfect recall (1.0) with Random Forest ensures it detects all lung cancer cases without missing any.\n",
    "It also has higher accuracy and lower error metrics.\n",
    "Logistic Regression still performs well, especially in terms of precision, but it lags behind in recall, meaning it may miss some true positive cases.\n",
    "\n",
    "However, it's important to note that this comparison is based on a relatively small dataset, which limits the robustness of the results. In practice, larger datasets would require additional considerations, such as feature scaling, data encoding, and other techniques, to improve the model's performance and generalizability.\n",
    "\n",
    "While Random Forest outperforms Logistic Regression in this case with higher accuracy, recall, and lower error metrics, these results might change with a larger dataset, where more extensive preprocessing and feature engineering would be necessary. This notebook is a great starting point for understanding data preprocessing, machine learning modeling, and visualization techniques using libraries like NumPy, Pandas, Seaborn, and Matplotlib.\n",
    "\n",
    "In summary, while the comparison here offers valuable insights, larger datasets with more complex features would require further refinement for optimal results.\n",
    "\n",
    "</div>"
   ]
  },
  {
   "cell_type": "markdown",
   "id": "1028bd2b",
   "metadata": {
    "papermill": {
     "duration": 0.01631,
     "end_time": "2024-12-04T13:00:22.778127",
     "exception": false,
     "start_time": "2024-12-04T13:00:22.761817",
     "status": "completed"
    },
    "tags": []
   },
   "source": [
    "<div style=\"background-color: #fff8ff; padding: 20px; border-radius: 10px; border: 1px solid #444555; font-family: Arial, sans-serif; color: #333333;\">\n",
    "\n",
    "  <h3 style=\"color: #444555; font-weight: bold;\">If you found this notebook helpful, consider giving it an upvote! 👍</h3>\n",
    "  <p style=\"font-size: 1.1em; color: #555555;\">Your support encourages continued work in this domain. Feel free to leave your thoughts, feedback, or suggestions in the comments section. Let’s collaborate to make data science impactful!</p>\n",
    "\n",
    "</div>"
   ]
  }
 ],
 "metadata": {
  "kaggle": {
   "accelerator": "none",
   "dataSources": [
    {
     "datasetId": 1623385,
     "sourceId": 2668247,
     "sourceType": "datasetVersion"
    }
   ],
   "dockerImageVersionId": 30213,
   "isGpuEnabled": false,
   "isInternetEnabled": false,
   "language": "python",
   "sourceType": "notebook"
  },
  "kernelspec": {
   "display_name": "Python 3",
   "language": "python",
   "name": "python3"
  },
  "language_info": {
   "codemirror_mode": {
    "name": "ipython",
    "version": 3
   },
   "file_extension": ".py",
   "mimetype": "text/x-python",
   "name": "python",
   "nbconvert_exporter": "python",
   "pygments_lexer": "ipython3",
   "version": "3.7.12"
  },
  "papermill": {
   "default_parameters": {},
   "duration": 16.094381,
   "end_time": "2024-12-04T13:00:23.617988",
   "environment_variables": {},
   "exception": null,
   "input_path": "__notebook__.ipynb",
   "output_path": "__notebook__.ipynb",
   "parameters": {},
   "start_time": "2024-12-04T13:00:07.523607",
   "version": "2.3.4"
  }
 },
 "nbformat": 4,
 "nbformat_minor": 5
}
